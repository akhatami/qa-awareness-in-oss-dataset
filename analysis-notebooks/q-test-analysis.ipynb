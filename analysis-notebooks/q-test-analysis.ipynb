{
 "cells": [
  {
   "cell_type": "code",
   "execution_count": 1,
   "metadata": {
    "ExecuteTime": {
     "start_time": "2023-07-06T00:09:19.352069Z",
     "end_time": "2023-07-06T00:09:19.353557Z"
    }
   },
   "outputs": [],
   "source": [
    "import pandas as pd\n",
    "import matplotlib.pyplot as plt"
   ]
  },
  {
   "cell_type": "code",
   "execution_count": 2,
   "metadata": {
    "ExecuteTime": {
     "start_time": "2023-07-06T00:09:19.354926Z",
     "end_time": "2023-07-06T00:09:21.654277Z"
    }
   },
   "outputs": [
    {
     "name": "stdout",
     "output_type": "stream",
     "text": [
      "Requirement already satisfied: xlrd in /Users/alikhatami/opt/anaconda3/lib/python3.8/site-packages (1.2.0)\r\n",
      "Requirement already satisfied: openpyxl in /Users/alikhatami/opt/anaconda3/lib/python3.8/site-packages (3.0.5)\r\n",
      "Requirement already satisfied: et-xmlfile in /Users/alikhatami/opt/anaconda3/lib/python3.8/site-packages (from openpyxl) (1.0.1)\r\n",
      "Requirement already satisfied: jdcal in /Users/alikhatami/opt/anaconda3/lib/python3.8/site-packages (from openpyxl) (1.4.1)\r\n"
     ]
    }
   ],
   "source": [
    "!pip install xlrd\n",
    "!pip install openpyxl"
   ]
  },
  {
   "cell_type": "code",
   "execution_count": 3,
   "metadata": {
    "ExecuteTime": {
     "start_time": "2023-07-06T00:09:21.658114Z",
     "end_time": "2023-07-06T00:09:21.685717Z"
    }
   },
   "outputs": [],
   "source": [
    "df = pd.read_csv(\"data/answers_clean_complete.csv\")\n",
    "df = df.drop('Unnamed: 0', axis=1)\n",
    "df = df.iloc[2:].reset_index(drop=True)"
   ]
  },
  {
   "cell_type": "code",
   "execution_count": 4,
   "metadata": {
    "ExecuteTime": {
     "start_time": "2023-07-06T00:09:21.684322Z",
     "end_time": "2023-07-06T00:09:21.699257Z"
    }
   },
   "outputs": [
    {
     "name": "stdout",
     "output_type": "stream",
     "text": [
      "Yes              87.473461\n",
      "No                9.978769\n",
      "I don't know.     2.547771\n",
      "Name: testing, dtype: float64\n",
      "Yes              412\n",
      "No                47\n",
      "I don't know.     12\n",
      "Name: testing, dtype: int64\n",
      "No answer: 0\n"
     ]
    }
   ],
   "source": [
    "count_all = df.shape[0]\n",
    "print(df['testing'].value_counts() * 100 / count_all)\n",
    "print(df['testing'].value_counts())\n",
    "print('No answer:', df['testing'].isna().sum())"
   ]
  },
  {
   "cell_type": "code",
   "execution_count": 5,
   "metadata": {
    "ExecuteTime": {
     "start_time": "2023-07-06T00:09:21.700765Z",
     "end_time": "2023-07-06T00:09:21.703191Z"
    }
   },
   "outputs": [],
   "source": [
    "contributors = df['role'] == 'Source code contributor'\n",
    "maintainers = df['role'] != 'Source code contributor'\n",
    "count_contributors = df[contributors].shape[0]\n",
    "count_maintainers = df[maintainers].shape[0]"
   ]
  },
  {
   "cell_type": "code",
   "execution_count": 6,
   "outputs": [
    {
     "name": "stdout",
     "output_type": "stream",
     "text": [
      "Yes              155\n",
      "No                22\n",
      "I don't know.     10\n",
      "Name: testing, dtype: int64\n",
      "No answer: 0\n"
     ]
    }
   ],
   "source": [
    "print(df[contributors]['testing'].value_counts())\n",
    "print('No answer:', df[contributors]['testing'].isna().sum())"
   ],
   "metadata": {
    "collapsed": false,
    "ExecuteTime": {
     "start_time": "2023-07-06T00:09:21.705822Z",
     "end_time": "2023-07-06T00:09:21.732976Z"
    }
   }
  },
  {
   "cell_type": "code",
   "execution_count": 7,
   "outputs": [
    {
     "name": "stdout",
     "output_type": "stream",
     "text": [
      "Yes              257\n",
      "No                25\n",
      "I don't know.      2\n",
      "Name: testing, dtype: int64\n",
      "No answer: 0\n"
     ]
    }
   ],
   "source": [
    "print(df[maintainers]['testing'].value_counts())\n",
    "print('No answer:', df[maintainers]['testing'].isna().sum())"
   ],
   "metadata": {
    "collapsed": false,
    "ExecuteTime": {
     "start_time": "2023-07-06T00:09:21.712227Z",
     "end_time": "2023-07-06T00:09:21.733648Z"
    }
   }
  },
  {
   "cell_type": "code",
   "execution_count": 8,
   "metadata": {
    "ExecuteTime": {
     "start_time": "2023-07-06T00:09:21.718297Z",
     "end_time": "2023-07-06T00:09:21.733892Z"
    }
   },
   "outputs": [
    {
     "name": "stdout",
     "output_type": "stream",
     "text": [
      "Yes              82.887701\n",
      "No               11.764706\n",
      "I don't know.     5.347594\n",
      "Name: testing, dtype: float64\n",
      "Yes              155\n",
      "No                22\n",
      "I don't know.     10\n",
      "Name: testing, dtype: int64\n",
      "-----\n",
      "Yes              90.492958\n",
      "No                8.802817\n",
      "I don't know.     0.704225\n",
      "Name: testing, dtype: float64\n",
      "Yes              257\n",
      "No                25\n",
      "I don't know.      2\n",
      "Name: testing, dtype: int64\n"
     ]
    }
   ],
   "source": [
    "print(df[contributors]['testing'].value_counts() * 100 / count_contributors)\n",
    "print(df[contributors]['testing'].value_counts())\n",
    "print('-----')\n",
    "print(df[maintainers]['testing'].value_counts() * 100 / count_maintainers)\n",
    "print(df[maintainers]['testing'].value_counts())"
   ]
  },
  {
   "cell_type": "code",
   "execution_count": 9,
   "metadata": {
    "ExecuteTime": {
     "start_time": "2023-07-06T00:09:21.730816Z",
     "end_time": "2023-07-06T00:09:21.819661Z"
    }
   },
   "outputs": [
    {
     "data": {
      "text/plain": "<Figure size 432x288 with 1 Axes>",
      "image/png": "[encoded data removed]"
     },
     "metadata": {},
     "output_type": "display_data"
    },
    {
     "name": "stdout",
     "output_type": "stream",
     "text": [
      "Number of not-answered: 72\n",
      "Number of answered: 399\n"
     ]
    }
   ],
   "source": [
    "test_kinds = ['Unit testing', 'Integration testing', 'Validation testing', 'System testing', 'Other']\n",
    "counts = [df.test_kind_unit.sum(), df.test_kind_integration.sum(), df.test_kind_validation.sum(), df.test_kind_system.sum(), df.test_kind_other.sum()]\n",
    "fig, ax = plt.subplots()\n",
    "ax.bar(test_kinds, counts)\n",
    "ax.set_ylabel('Count')\n",
    "ax.set_title('Test Kind')\n",
    "plt.xticks(rotation=30, ha='right')\n",
    "plt.show()\n",
    "print(\"Number of not-answered:\", df.test_kind.isna().sum())\n",
    "print(\"Number of answered:\", df.shape[0] - df.test_kind.isna().sum())"
   ]
  },
  {
   "cell_type": "code",
   "execution_count": 10,
   "metadata": {
    "ExecuteTime": {
     "start_time": "2023-07-06T00:09:21.822409Z",
     "end_time": "2023-07-06T00:09:21.825806Z"
    }
   },
   "outputs": [
    {
     "name": "stdout",
     "output_type": "stream",
     "text": [
      "15.286624203821656\n",
      "No answer: 72\n",
      "21.925133689839573\n",
      "41\n",
      "-----\n",
      "10.915492957746478\n",
      "31\n"
     ]
    }
   ],
   "source": [
    "print(df['test_kind'].isna().sum() * 100 / count_all)\n",
    "print('No answer:', df['test_kind'].isna().sum())\n",
    "print(df[contributors]['test_kind'].isna().sum() * 100 / count_contributors)\n",
    "print(df[contributors]['test_kind'].isna().sum())\n",
    "print('-----')\n",
    "print(df[maintainers]['test_kind'].isna().sum() * 100 / count_maintainers)\n",
    "print(df[maintainers]['test_kind'].isna().sum())"
   ]
  },
  {
   "cell_type": "code",
   "execution_count": 11,
   "metadata": {
    "ExecuteTime": {
     "start_time": "2023-07-06T00:09:21.827735Z",
     "end_time": "2023-07-06T00:09:21.829775Z"
    }
   },
   "outputs": [
    {
     "name": "stdout",
     "output_type": "stream",
     "text": [
      "91.72932330827068\n",
      "71.9298245614035\n",
      "29.32330827067669\n",
      "24.31077694235589\n",
      "7.518796992481203\n"
     ]
    }
   ],
   "source": [
    "print(df['test_kind_unit'].sum() * 100 / 399)\n",
    "print(df['test_kind_integration'].sum() * 100 / 399)\n",
    "print(df['test_kind_validation'].sum() * 100 / 399)\n",
    "print(df['test_kind_system'].sum() * 100 / 399)\n",
    "print(df['test_kind_other'].sum() * 100 / 399)"
   ]
  },
  {
   "cell_type": "code",
   "execution_count": 12,
   "metadata": {
    "ExecuteTime": {
     "start_time": "2023-07-06T00:09:21.831244Z",
     "end_time": "2023-07-06T00:09:21.834270Z"
    }
   },
   "outputs": [
    {
     "name": "stdout",
     "output_type": "stream",
     "text": [
      "30\n",
      "7.518796992481203\n"
     ]
    }
   ],
   "source": [
    "print(df[~df['test_kind_text'].isna()]['test_kind_text'].shape[0])\n",
    "print(df[~df['test_kind_text'].isna()]['test_kind_text'].shape[0] * 100 / 399)"
   ]
  },
  {
   "cell_type": "code",
   "execution_count": 13,
   "outputs": [],
   "source": [
    "df[df[\"test_kind\"].str.contains(\"Other\", na=False)][['test_kind_text']].to_csv(\"manual_data_inspection/test_kind_text.csv\")"
   ],
   "metadata": {
    "collapsed": false,
    "ExecuteTime": {
     "start_time": "2023-07-06T00:09:21.837254Z",
     "end_time": "2023-07-06T00:09:21.841754Z"
    }
   }
  },
  {
   "cell_type": "code",
   "execution_count": 14,
   "metadata": {
    "ExecuteTime": {
     "start_time": "2023-07-06T00:09:21.846268Z",
     "end_time": "2023-07-06T00:09:21.921837Z"
    }
   },
   "outputs": [
    {
     "data": {
      "text/plain": "<Figure size 432x288 with 1 Axes>",
      "image/png": "[encoded data removed]"
     },
     "metadata": {},
     "output_type": "display_data"
    },
    {
     "name": "stdout",
     "output_type": "stream",
     "text": [
      "Number of not-answered: 222\n",
      "Number of answered: 249\n"
     ]
    }
   ],
   "source": [
    "tc_kinds = ['Statement/Line coverage', 'Branch coverage', 'Mutation score', 'Other']\n",
    "counts = [df.tc_kind_line.sum(), df.tc_kind_branch.sum(), df.tc_kind_mutation.sum(), df.tc_kind_other.sum()]\n",
    "fig, ax = plt.subplots()\n",
    "ax.bar(tc_kinds, counts)\n",
    "ax.set_ylabel('Count')\n",
    "ax.set_title('Test Coverage Information')\n",
    "plt.xticks(rotation=30, ha='right')\n",
    "plt.show()\n",
    "print(\"Number of not-answered:\", df.test_coverage_kind.isna().sum())\n",
    "print(\"Number of answered:\", df.shape[0] - df.test_coverage_kind.isna().sum())"
   ]
  },
  {
   "cell_type": "code",
   "execution_count": 15,
   "metadata": {
    "ExecuteTime": {
     "start_time": "2023-07-06T00:09:21.924572Z",
     "end_time": "2023-07-06T00:09:21.926663Z"
    }
   },
   "outputs": [
    {
     "name": "stdout",
     "output_type": "stream",
     "text": [
      "201\n",
      "103\n",
      "22\n",
      "43\n",
      "\n",
      "80.72289156626506\n",
      "41.36546184738956\n",
      "8.835341365461847\n",
      "17.269076305220885\n"
     ]
    }
   ],
   "source": [
    "print(df['tc_kind_line'].sum())\n",
    "print(df['tc_kind_branch'].sum())\n",
    "print(df['tc_kind_mutation'].sum())\n",
    "print(df['tc_kind_other'].sum())\n",
    "print()\n",
    "print(df['tc_kind_line'].sum() * 100 / 249)\n",
    "print(df['tc_kind_branch'].sum() * 100 / 249)\n",
    "print(df['tc_kind_mutation'].sum() * 100 / 249)\n",
    "print(df['tc_kind_other'].sum() * 100 / 249)"
   ]
  },
  {
   "cell_type": "code",
   "execution_count": 16,
   "metadata": {
    "ExecuteTime": {
     "start_time": "2023-07-06T00:09:21.928945Z",
     "end_time": "2023-07-06T00:09:21.932437Z"
    }
   },
   "outputs": [
    {
     "name": "stdout",
     "output_type": "stream",
     "text": [
      "47.13375796178344\n",
      "No answer: 222\n",
      "53.475935828877006\n",
      "100\n",
      "-----\n",
      "42.95774647887324\n",
      "122\n"
     ]
    }
   ],
   "source": [
    "print(df['test_coverage_kind'].isna().sum() * 100 / count_all)\n",
    "print('No answer:', df['test_coverage_kind'].isna().sum())\n",
    "print(df[contributors]['test_coverage_kind'].isna().sum() * 100 / count_contributors)\n",
    "print(df[contributors]['test_coverage_kind'].isna().sum())\n",
    "print('-----')\n",
    "print(df[maintainers]['test_coverage_kind'].isna().sum() * 100 / count_maintainers)\n",
    "print(df[maintainers]['test_coverage_kind'].isna().sum())"
   ]
  },
  {
   "cell_type": "code",
   "execution_count": 17,
   "outputs": [
    {
     "name": "stdout",
     "output_type": "stream",
     "text": [
      "100\n",
      "87\n",
      "-----\n",
      "122\n",
      "162\n"
     ]
    }
   ],
   "source": [
    "print(df[contributors]['test_coverage_kind'].isna().sum())\n",
    "print(count_contributors - df[contributors]['test_coverage_kind'].isna().sum())\n",
    "print('-----')\n",
    "print(df[maintainers]['test_coverage_kind'].isna().sum())\n",
    "print(count_maintainers - df[maintainers]['test_coverage_kind'].isna().sum())"
   ],
   "metadata": {
    "collapsed": false,
    "ExecuteTime": {
     "start_time": "2023-07-06T00:09:21.934801Z",
     "end_time": "2023-07-06T00:09:21.938494Z"
    }
   }
  },
  {
   "cell_type": "code",
   "execution_count": 18,
   "metadata": {
    "ExecuteTime": {
     "start_time": "2023-07-06T00:09:21.940531Z",
     "end_time": "2023-07-06T00:09:21.942830Z"
    }
   },
   "outputs": [
    {
     "name": "stdout",
     "output_type": "stream",
     "text": [
      "40\n",
      "16.06425702811245\n"
     ]
    }
   ],
   "source": [
    "print(df[~df['test_coverage_kind_text'].isna()]['test_coverage_kind_text'].shape[0])\n",
    "print(df[~df['test_coverage_kind_text'].isna()]['test_coverage_kind_text'].shape[0] * 100 / 249) "
   ]
  },
  {
   "cell_type": "code",
   "execution_count": 19,
   "metadata": {
    "ExecuteTime": {
     "start_time": "2023-07-06T00:09:21.945415Z",
     "end_time": "2023-07-06T00:09:21.986692Z"
    }
   },
   "outputs": [],
   "source": [
    "df[df[\"test_coverage_kind\"].str.contains(\"Other\", na=False)][['test_coverage_kind_text']].to_csv(\"manual_data_inspection/test_coverage_kind_text.csv\")"
   ]
  },
  {
   "cell_type": "code",
   "execution_count": 20,
   "metadata": {
    "ExecuteTime": {
     "start_time": "2023-07-06T00:09:21.949857Z",
     "end_time": "2023-07-06T00:09:22.060630Z"
    }
   },
   "outputs": [
    {
     "name": "stdout",
     "output_type": "stream",
     "text": [
      "No, this information is not on the GitHub page of the project.                                               204\n",
      "Yes, I know. (Please specify in the text box below)                                                          124\n",
      "No, but I can find this information somewhere on project's GitHub. (Please specify in the text box below)     52\n",
      "Name: code_coverage_aware, dtype: int64\n",
      "Number of not-answered: 91\n",
      "Number of answered: 380\n"
     ]
    },
    {
     "data": {
      "text/plain": "<Figure size 432x288 with 1 Axes>",
      "image/png": "[encoded data removed]"
     },
     "metadata": {},
     "output_type": "display_data"
    }
   ],
   "source": [
    "code_coverage_aware_series = df.code_coverage_aware.value_counts()\n",
    "code_coverage_aware_series.plot.barh()\n",
    "print(code_coverage_aware_series)\n",
    "print(\"Number of not-answered:\", df.code_coverage_aware.isna().sum())\n",
    "print(\"Number of answered:\", df.shape[0] - df.code_coverage_aware.isna().sum())"
   ]
  },
  {
   "cell_type": "code",
   "execution_count": 21,
   "outputs": [
    {
     "name": "stdout",
     "output_type": "stream",
     "text": [
      "50\n",
      "137\n",
      "No, this information is not on the GitHub page of the project.                                               81\n",
      "No, but I can find this information somewhere on project's GitHub. (Please specify in the text box below)    32\n",
      "Yes, I know. (Please specify in the text box below)                                                          24\n",
      "Name: code_coverage_aware, dtype: int64\n",
      "-----\n",
      "41\n",
      "243\n",
      "No, this information is not on the GitHub page of the project.                                               123\n",
      "Yes, I know. (Please specify in the text box below)                                                          100\n",
      "No, but I can find this information somewhere on project's GitHub. (Please specify in the text box below)     20\n",
      "Name: code_coverage_aware, dtype: int64\n"
     ]
    }
   ],
   "source": [
    "print(df[contributors]['code_coverage_aware'].isna().sum())\n",
    "print(count_contributors - df[contributors]['code_coverage_aware'].isna().sum())\n",
    "print(df[contributors].code_coverage_aware.value_counts())\n",
    "print('-----')\n",
    "print(df[maintainers]['code_coverage_aware'].isna().sum())\n",
    "print(count_maintainers - df[maintainers]['code_coverage_aware'].isna().sum())\n",
    "print(df[maintainers].code_coverage_aware.value_counts())"
   ],
   "metadata": {
    "collapsed": false,
    "ExecuteTime": {
     "start_time": "2023-07-06T00:09:22.062909Z",
     "end_time": "2023-07-06T00:09:22.071501Z"
    }
   }
  },
  {
   "cell_type": "code",
   "execution_count": 22,
   "outputs": [
    {
     "name": "stdout",
     "output_type": "stream",
     "text": [
      "No info: 204\n",
      "43.31550802139037\n",
      "81\n",
      "-----\n",
      "43.309859154929576\n",
      "123\n"
     ]
    }
   ],
   "source": [
    "print('No info:', df.code_coverage_aware.value_counts()['No, this information is not on the GitHub page of the project.'])\n",
    "print(df.code_coverage_aware[contributors].value_counts()['No, this information is not on the GitHub page of the project.'] * 100 / count_contributors)\n",
    "print(df.code_coverage_aware[contributors].value_counts()['No, this information is not on the GitHub page of the project.'])\n",
    "print('-----')\n",
    "print(df.code_coverage_aware[maintainers].value_counts()['No, this information is not on the GitHub page of the project.'] * 100 / count_maintainers)\n",
    "print(df.code_coverage_aware[maintainers].value_counts()['No, this information is not on the GitHub page of the project.'])"
   ],
   "metadata": {
    "collapsed": false,
    "ExecuteTime": {
     "start_time": "2023-07-06T00:09:22.072999Z",
     "end_time": "2023-07-06T00:09:22.119787Z"
    }
   }
  },
  {
   "cell_type": "code",
   "execution_count": 23,
   "metadata": {
    "ExecuteTime": {
     "start_time": "2023-07-06T00:09:22.084479Z",
     "end_time": "2023-07-06T00:09:22.120107Z"
    }
   },
   "outputs": [
    {
     "name": "stdout",
     "output_type": "stream",
     "text": [
      "19.32059447983015\n",
      "No answer: 91\n",
      "26.737967914438503\n",
      "50\n",
      "-----\n",
      "14.43661971830986\n",
      "41\n",
      "\n",
      "53.68421052631579\n",
      "32.63157894736842\n",
      "13.68421052631579\n"
     ]
    }
   ],
   "source": [
    "print(df['code_coverage_aware'].isna().sum() * 100 / count_all)\n",
    "print('No answer:', df['code_coverage_aware'].isna().sum())\n",
    "print(df[contributors]['code_coverage_aware'].isna().sum() * 100 / count_contributors)\n",
    "print(df[contributors]['code_coverage_aware'].isna().sum())\n",
    "print('-----')\n",
    "print(df[maintainers]['code_coverage_aware'].isna().sum() * 100 / count_maintainers)\n",
    "print(df[maintainers]['code_coverage_aware'].isna().sum())\n",
    "\n",
    "print()\n",
    "print(204 * 100 / 380)\n",
    "print(124 * 100 / 380)\n",
    "print(52 * 100 / 380)"
   ]
  },
  {
   "cell_type": "code",
   "execution_count": 24,
   "metadata": {
    "ExecuteTime": {
     "start_time": "2023-07-06T00:09:22.091883Z",
     "end_time": "2023-07-06T00:09:22.120503Z"
    }
   },
   "outputs": [],
   "source": [
    "df[df[\"code_coverage_aware\"].str.contains(\"Yes, I know.\", na=False)][['code_coverage_amount']].to_csv(\"manual_data_inspection/code_coverage_amount.csv\")\n",
    "df[df[\"code_coverage_aware\"].str.contains(\"find this information somewhere\", na=False)][['code_coverage_location']].to_csv(\"manual_data_inspection/code_coverage_location.csv\")"
   ]
  },
  {
   "cell_type": "code",
   "execution_count": 25,
   "metadata": {
    "ExecuteTime": {
     "start_time": "2023-07-06T00:09:22.104037Z",
     "end_time": "2023-07-06T00:09:22.121146Z"
    }
   },
   "outputs": [
    {
     "name": "stdout",
     "output_type": "stream",
     "text": [
      "No answer: 123\n",
      "26.11464968152866\n",
      "Answer: 348\n",
      "73.88535031847134\n",
      "-----\n",
      "Contributors:\n",
      "39.037433155080215\n",
      "73\n",
      "-----\n",
      "Maintainers:\n",
      "17.6056338028169\n",
      "50\n"
     ]
    }
   ],
   "source": [
    "print('No answer:', df['test_tooling'].isna().sum())\n",
    "print((df['test_tooling'].isna().sum()) * 100 / count_all)\n",
    "print('Answer:', count_all - df['test_tooling'].isna().sum() )\n",
    "print((count_all - df['test_tooling'].isna().sum()) * 100 / count_all)\n",
    "print('-----')\n",
    "print('Contributors:')\n",
    "print(df[contributors]['test_tooling'].isna().sum() * 100 / count_contributors)\n",
    "print(df[contributors]['test_tooling'].isna().sum())\n",
    "print('-----')\n",
    "print('Maintainers:')\n",
    "print(df[maintainers]['test_tooling'].isna().sum() * 100 / count_maintainers)\n",
    "print(df[maintainers]['test_tooling'].isna().sum())"
   ]
  },
  {
   "cell_type": "code",
   "execution_count": 26,
   "outputs": [
    {
     "name": "stdout",
     "output_type": "stream",
     "text": [
      "73\n",
      "114\n",
      "-----\n",
      "50\n",
      "234\n"
     ]
    }
   ],
   "source": [
    "print(df[contributors]['test_tooling'].isna().sum())\n",
    "print(count_contributors - df[contributors]['test_tooling'].isna().sum())\n",
    "# print(df[contributors].test_tooling.value_counts())\n",
    "print('-----')\n",
    "print(df[maintainers]['test_tooling'].isna().sum())\n",
    "print(count_maintainers - df[maintainers]['test_tooling'].isna().sum())\n",
    "# print(df[maintainers].test_tooling.value_counts())"
   ],
   "metadata": {
    "collapsed": false,
    "ExecuteTime": {
     "start_time": "2023-07-06T00:09:22.110304Z",
     "end_time": "2023-07-06T00:09:22.121308Z"
    }
   }
  },
  {
   "cell_type": "code",
   "execution_count": 27,
   "outputs": [],
   "source": [
    "# invalid_indexes = [158, 398, 408, 430, 458]\n",
    "# df.loc[invalid_indexes]"
   ],
   "metadata": {
    "collapsed": false,
    "ExecuteTime": {
     "start_time": "2023-07-06T00:09:22.120040Z",
     "end_time": "2023-07-06T00:09:22.127515Z"
    }
   }
  },
  {
   "cell_type": "code",
   "execution_count": 28,
   "metadata": {
    "ExecuteTime": {
     "start_time": "2023-07-06T00:09:22.126812Z",
     "end_time": "2023-07-06T00:09:22.133199Z"
    }
   },
   "outputs": [],
   "source": [
    "df[~df[\"test_tooling\"].isna()][['test_tooling']].to_csv(\"manual_data_inspection/test_tooling.csv\")"
   ]
  },
  {
   "cell_type": "code",
   "execution_count": 29,
   "metadata": {
    "ExecuteTime": {
     "start_time": "2023-07-06T00:09:22.134288Z",
     "end_time": "2023-07-06T00:09:22.175309Z"
    }
   },
   "outputs": [
    {
     "name": "stdout",
     "output_type": "stream",
     "text": [
      "348\n",
      "Index(['Column1', 'test_tooling', 'count', 'notes', 't1', 't2', 't3', 't4',\n",
      "       't5', 't6', 't7', 't8', 't9', 't10', 't11', 't12', 't13', 't14', 't15'],\n",
      "      dtype='object')\n"
     ]
    }
   ],
   "source": [
    "df_test_tooling = pd.read_excel(\"manual_data_inspection/test_tooling_coding.xlsx\")\n",
    "print(df_test_tooling.shape[0])\n",
    "print(df_test_tooling.columns)"
   ]
  },
  {
   "cell_type": "code",
   "execution_count": 30,
   "metadata": {
    "ExecuteTime": {
     "start_time": "2023-07-06T00:09:22.185563Z",
     "end_time": "2023-07-06T00:09:22.275695Z"
    }
   },
   "outputs": [
    {
     "name": "stdout",
     "output_type": "stream",
     "text": [
      "1.0     143\n",
      "2.0      95\n",
      "3.0      50\n",
      "4.0      38\n",
      "5.0      10\n",
      "6.0       1\n",
      "7.0       1\n",
      "8.0       1\n",
      "9.0       1\n",
      "10.0      1\n",
      "15.0      1\n",
      "Name: count, dtype: int64\n"
     ]
    },
    {
     "data": {
      "text/plain": "<Figure size 432x288 with 1 Axes>",
      "image/png": "[encoded data removed]"
     },
     "metadata": {},
     "output_type": "display_data"
    }
   ],
   "source": [
    "count_series = df_test_tooling['count'].value_counts().sort_index()\n",
    "count_series.plot.barh()\n",
    "print(count_series)"
   ]
  },
  {
   "cell_type": "code",
   "execution_count": 31,
   "metadata": {
    "ExecuteTime": {
     "start_time": "2023-07-06T00:09:22.278460Z",
     "end_time": "2023-07-06T00:09:22.280459Z"
    }
   },
   "outputs": [
    {
     "name": "stdout",
     "output_type": "stream",
     "text": [
      "count    342.000000\n",
      "mean       2.163743\n",
      "std        1.517088\n",
      "min        1.000000\n",
      "25%        1.000000\n",
      "50%        2.000000\n",
      "75%        3.000000\n",
      "max       15.000000\n",
      "Name: count, dtype: float64\n"
     ]
    }
   ],
   "source": [
    "print(df_test_tooling['count'].describe())"
   ]
  },
  {
   "cell_type": "code",
   "execution_count": 32,
   "outputs": [
    {
     "data": {
      "text/plain": "348"
     },
     "execution_count": 32,
     "metadata": {},
     "output_type": "execute_result"
    }
   ],
   "source": [
    "df_test_tooling.shape[0]"
   ],
   "metadata": {
    "collapsed": false,
    "ExecuteTime": {
     "start_time": "2023-07-06T00:09:22.281799Z",
     "end_time": "2023-07-06T00:09:22.283706Z"
    }
   }
  },
  {
   "cell_type": "code",
   "execution_count": 33,
   "outputs": [
    {
     "data": {
      "text/plain": "     Column1                                       test_tooling  count  \\\n121      158                                            I don't    NaN   \n292      398                                         frameworks    NaN   \n301      408       libraries, mainly what the language provides    NaN   \n317      430  the testing framework that comes with the web ...    NaN   \n338      458                                               None    NaN   \n\n                             notes   t1   t2   t3   t4   t5   t6   t7   t8  \\\n121               unrelated answer  NaN  NaN  NaN  NaN  NaN  NaN  NaN  NaN   \n292               unrelated answer  NaN  NaN  NaN  NaN  NaN  NaN  NaN  NaN   \n301               unrelated answer  NaN  NaN  NaN  NaN  NaN  NaN  NaN  NaN   \n317  unrelated answer/not accurate  NaN  NaN  NaN  NaN  NaN  NaN  NaN  NaN   \n338               unrelated answer  NaN  NaN  NaN  NaN  NaN  NaN  NaN  NaN   \n\n      t9  t10  t11  t12  t13  t14  t15  \n121  NaN  NaN  NaN  NaN  NaN  NaN  NaN  \n292  NaN  NaN  NaN  NaN  NaN  NaN  NaN  \n301  NaN  NaN  NaN  NaN  NaN  NaN  NaN  \n317  NaN  NaN  NaN  NaN  NaN  NaN  NaN  \n338  NaN  NaN  NaN  NaN  NaN  NaN  NaN  ",
      "text/html": "<div>\n<style scoped>\n    .dataframe tbody tr th:only-of-type {\n        vertical-align: middle;\n    }\n\n    .dataframe tbody tr th {\n        vertical-align: top;\n    }\n\n    .dataframe thead th {\n        text-align: right;\n    }\n</style>\n<table border=\"1\" class=\"dataframe\">\n  <thead>\n    <tr style=\"text-align: right;\">\n      <th></th>\n      <th>Column1</th>\n      <th>test_tooling</th>\n      <th>count</th>\n      <th>notes</th>\n      <th>t1</th>\n      <th>t2</th>\n      <th>t3</th>\n      <th>t4</th>\n      <th>t5</th>\n      <th>t6</th>\n      <th>t7</th>\n      <th>t8</th>\n      <th>t9</th>\n      <th>t10</th>\n      <th>t11</th>\n      <th>t12</th>\n      <th>t13</th>\n      <th>t14</th>\n      <th>t15</th>\n    </tr>\n  </thead>\n  <tbody>\n    <tr>\n      <th>121</th>\n      <td>158</td>\n      <td>I don't</td>\n      <td>NaN</td>\n      <td>unrelated answer</td>\n      <td>NaN</td>\n      <td>NaN</td>\n      <td>NaN</td>\n      <td>NaN</td>\n      <td>NaN</td>\n      <td>NaN</td>\n      <td>NaN</td>\n      <td>NaN</td>\n      <td>NaN</td>\n      <td>NaN</td>\n      <td>NaN</td>\n      <td>NaN</td>\n      <td>NaN</td>\n      <td>NaN</td>\n      <td>NaN</td>\n    </tr>\n    <tr>\n      <th>292</th>\n      <td>398</td>\n      <td>frameworks</td>\n      <td>NaN</td>\n      <td>unrelated answer</td>\n      <td>NaN</td>\n      <td>NaN</td>\n      <td>NaN</td>\n      <td>NaN</td>\n      <td>NaN</td>\n      <td>NaN</td>\n      <td>NaN</td>\n      <td>NaN</td>\n      <td>NaN</td>\n      <td>NaN</td>\n      <td>NaN</td>\n      <td>NaN</td>\n      <td>NaN</td>\n      <td>NaN</td>\n      <td>NaN</td>\n    </tr>\n    <tr>\n      <th>301</th>\n      <td>408</td>\n      <td>libraries, mainly what the language provides</td>\n      <td>NaN</td>\n      <td>unrelated answer</td>\n      <td>NaN</td>\n      <td>NaN</td>\n      <td>NaN</td>\n      <td>NaN</td>\n      <td>NaN</td>\n      <td>NaN</td>\n      <td>NaN</td>\n      <td>NaN</td>\n      <td>NaN</td>\n      <td>NaN</td>\n      <td>NaN</td>\n      <td>NaN</td>\n      <td>NaN</td>\n      <td>NaN</td>\n      <td>NaN</td>\n    </tr>\n    <tr>\n      <th>317</th>\n      <td>430</td>\n      <td>the testing framework that comes with the web ...</td>\n      <td>NaN</td>\n      <td>unrelated answer/not accurate</td>\n      <td>NaN</td>\n      <td>NaN</td>\n      <td>NaN</td>\n      <td>NaN</td>\n      <td>NaN</td>\n      <td>NaN</td>\n      <td>NaN</td>\n      <td>NaN</td>\n      <td>NaN</td>\n      <td>NaN</td>\n      <td>NaN</td>\n      <td>NaN</td>\n      <td>NaN</td>\n      <td>NaN</td>\n      <td>NaN</td>\n    </tr>\n    <tr>\n      <th>338</th>\n      <td>458</td>\n      <td>None</td>\n      <td>NaN</td>\n      <td>unrelated answer</td>\n      <td>NaN</td>\n      <td>NaN</td>\n      <td>NaN</td>\n      <td>NaN</td>\n      <td>NaN</td>\n      <td>NaN</td>\n      <td>NaN</td>\n      <td>NaN</td>\n      <td>NaN</td>\n      <td>NaN</td>\n      <td>NaN</td>\n      <td>NaN</td>\n      <td>NaN</td>\n      <td>NaN</td>\n      <td>NaN</td>\n    </tr>\n  </tbody>\n</table>\n</div>"
     },
     "execution_count": 33,
     "metadata": {},
     "output_type": "execute_result"
    }
   ],
   "source": [
    "df_test_tooling[df_test_tooling['t1'].isna()]"
   ],
   "metadata": {
    "collapsed": false,
    "ExecuteTime": {
     "start_time": "2023-07-06T00:09:22.288885Z",
     "end_time": "2023-07-06T00:09:22.360420Z"
    }
   }
  },
  {
   "cell_type": "code",
   "execution_count": 34,
   "metadata": {
    "ExecuteTime": {
     "start_time": "2023-07-06T00:09:22.297666Z",
     "end_time": "2023-07-06T00:09:22.360815Z"
    }
   },
   "outputs": [],
   "source": [
    "tooling_dict = df_test_tooling[['t1', 't2', 't3', 't4', 't5', 't6', 't7', 't8', 't9', 't10', 't11', 't12', 't13', 't14', 't15']].apply(pd.Series.value_counts).sum(1).sort_values().to_dict()"
   ]
  },
  {
   "cell_type": "code",
   "execution_count": 35,
   "metadata": {
    "ExecuteTime": {
     "start_time": "2023-07-06T00:09:22.338204Z",
     "end_time": "2023-07-06T00:09:22.360951Z"
    }
   },
   "outputs": [
    {
     "name": "stdout",
     "output_type": "stream",
     "text": [
      "cypress\n",
      "7.0 0.9536784741144414\n",
      "jenkins\n",
      "7.0 0.9536784741144414\n",
      "playwright\n",
      "8.0 1.0899182561307903\n",
      "coverage.py\n",
      "8.0 1.0899182561307903\n",
      "xunit\n",
      "8.0 1.0899182561307903\n",
      "coveralls\n",
      "9.0 1.2261580381471389\n",
      "googletest\n",
      "10.0 1.3623978201634876\n",
      "unittest\n",
      "11.0 1.4986376021798364\n",
      "scripts\n",
      "12.0 1.6348773841961852\n",
      "rspec\n",
      "12.0 1.6348773841961852\n",
      "codecov\n",
      "15.0 2.043596730245232\n",
      "jest\n",
      "19.0 2.5885558583106265\n",
      "rust-test\n",
      "20.0 2.7247956403269753\n",
      "custom\n",
      "22.0 2.997275204359673\n",
      "cargo\n",
      "24.0 3.2697547683923704\n",
      "junit\n",
      "26.0 3.542234332425068\n",
      "go-test\n",
      "30.0 4.087193460490464\n",
      "gha\n",
      "35.0 4.768392370572207\n",
      "phpunit\n",
      "35.0 4.768392370572207\n",
      "pytest\n",
      "50.0 6.8119891008174385\n",
      "368.0\n",
      "20\n"
     ]
    }
   ],
   "source": [
    "sum = 0\n",
    "count = 0\n",
    "for x in list(tooling_dict)[-20:]:\n",
    "    print(x)\n",
    "    sum+=tooling_dict[x]\n",
    "    count+=1\n",
    "    print(tooling_dict[x], 100*tooling_dict[x]/734)\n",
    "print(sum)\n",
    "print(count)"
   ]
  },
  {
   "cell_type": "code",
   "execution_count": 36,
   "outputs": [
    {
     "name": "stdout",
     "output_type": "stream",
     "text": [
      "llvm-cov\n",
      "1.0 0.1362397820163488\n",
      "nuget\n",
      "1.0 0.1362397820163488\n",
      "nuke\n",
      "1.0 0.1362397820163488\n",
      "ounit\n",
      "1.0 0.1362397820163488\n",
      "pdepend\n",
      "1.0 0.1362397820163488\n",
      "pep8\n",
      "1.0 0.1362397820163488\n",
      "phantomjs\n",
      "1.0 0.1362397820163488\n",
      "php-codesnifer\n",
      "1.0 0.1362397820163488\n",
      "phpbench\n",
      "1.0 0.1362397820163488\n",
      "phpbenchmark\n",
      "1.0 0.1362397820163488\n",
      "phpcpd\n",
      "1.0 0.1362397820163488\n",
      "phpcsfixer\n",
      "1.0 0.1362397820163488\n",
      "phploc\n",
      "1.0 0.1362397820163488\n",
      "phpspec\n",
      "1.0 0.1362397820163488\n",
      "pre-commit\n",
      "1.0 0.1362397820163488\n",
      "prometheus\n",
      "1.0 0.1362397820163488\n",
      "promtool\n",
      "1.0 0.1362397820163488\n",
      "prow\n",
      "1.0 0.1362397820163488\n",
      "publicapigenerator\n",
      "1.0 0.1362397820163488\n",
      "puppeteer\n",
      "1.0 0.1362397820163488\n",
      "pyenv\n",
      "1.0 0.1362397820163488\n",
      "pytest-cov\n",
      "1.0 0.1362397820163488\n",
      "pytest-plugins\n",
      "1.0 0.1362397820163488\n",
      "pytest-vcr\n",
      "1.0 0.1362397820163488\n",
      "nosetests\n",
      "1.0 0.1362397820163488\n",
      "nodejs\n",
      "1.0 0.1362397820163488\n",
      "nock\n",
      "1.0 0.1362397820163488\n",
      "nix\n",
      "1.0 0.1362397820163488\n",
      "karate\n",
      "1.0 0.1362397820163488\n",
      "knative-test\n",
      "1.0 0.1362397820163488\n",
      "kover\n",
      "1.0 0.1362397820163488\n",
      "kuttl\n",
      "1.0 0.1362397820163488\n",
      "lgtm\n",
      "1.0 0.1362397820163488\n",
      "libfuzzing\n",
      "1.0 0.1362397820163488\n",
      "libgpml\n",
      "1.0 0.1362397820163488\n",
      "linter\n",
      "1.0 0.1362397820163488\n",
      "llvm\n",
      "1.0 0.1362397820163488\n",
      "yarn\n",
      "1.0 0.1362397820163488\n",
      "luacheck\n",
      "1.0 0.1362397820163488\n",
      "python-testing\n",
      "1.0 0.1362397820163488\n",
      "manual\n",
      "1.0 0.1362397820163488\n",
      "melos\n",
      "1.0 0.1362397820163488\n",
      "minunit\n",
      "1.0 0.1362397820163488\n",
      "mochify\n",
      "1.0 0.1362397820163488\n",
      "mockall\n",
      "1.0 0.1362397820163488\n",
      "mockfs\n",
      "1.0 0.1362397820163488\n",
      "molecule\n",
      "1.0 0.1362397820163488\n",
      "moq\n",
      "1.0 0.1362397820163488\n",
      "msan\n",
      "1.0 0.1362397820163488\n",
      "nbutil\n",
      "1.0 0.1362397820163488\n",
      "newtonsoft\n",
      "1.0 0.1362397820163488\n",
      "nightwatch\n",
      "1.0 0.1362397820163488\n",
      "megalinter\n",
      "1.0 0.1362397820163488\n",
      "junit \n",
      "1.0 0.1362397820163488\n",
      "pyunit\n",
      "1.0 0.1362397820163488\n",
      "qtest\n",
      "1.0 0.1362397820163488\n",
      "test-nginx\n",
      "1.0 0.1362397820163488\n",
      "testcafe\n",
      "1.0 0.1362397820163488\n",
      "testcontainers\n",
      "1.0 0.1362397820163488\n",
      "testem\n",
      "1.0 0.1362397820163488\n",
      "teuthology\n",
      "1.0 0.1362397820163488\n",
      "texttest\n",
      "1.0 0.1362397820163488\n",
      "trybuild\n",
      "1.0 0.1362397820163488\n",
      "tycho-surefire\n",
      "1.0 0.1362397820163488\n",
      "typescript\n",
      "1.0 0.1362397820163488\n",
      "unit-tests\n",
      "1.0 0.1362397820163488\n",
      "validators\n",
      "1.0 0.1362397820163488\n",
      "verify.xunit\n",
      "1.0 0.1362397820163488\n",
      "vowjs-test\n",
      "1.0 0.1362397820163488\n",
      "vs-addons\n",
      "1.0 0.1362397820163488\n",
      "wallaby\n",
      "1.0 0.1362397820163488\n",
      "wasm-bindgen-test\n",
      "1.0 0.1362397820163488\n",
      "web-test-runner\n",
      "1.0 0.1362397820163488\n",
      "webpack\n",
      "1.0 0.1362397820163488\n",
      "wiremock\n",
      "1.0 0.1362397820163488\n",
      "wlcs\n",
      "1.0 0.1362397820163488\n",
      "woodpecker\n",
      "1.0 0.1362397820163488\n",
      "xdebug\n",
      "1.0 0.1362397820163488\n",
      "yamlint\n",
      "1.0 0.1362397820163488\n",
      "test-case\n",
      "1.0 0.1362397820163488\n",
      "teamcity\n",
      "1.0 0.1362397820163488\n",
      "tarpaulin\n",
      "1.0 0.1362397820163488\n",
      "stryker\n",
      "1.0 0.1362397820163488\n",
      "rails\n",
      "1.0 0.1362397820163488\n",
      "rake\n",
      "1.0 0.1362397820163488\n",
      "requests-mock\n",
      "1.0 0.1362397820163488\n",
      "rollup\n",
      "1.0 0.1362397820163488\n",
      "rubocop\n",
      "1.0 0.1362397820163488\n",
      "ruby\n",
      "1.0 0.1362397820163488\n",
      "ruby_memcheck\n",
      "1.0 0.1362397820163488\n",
      "ruff\n",
      "1.0 0.1362397820163488\n",
      "rz-test\n",
      "1.0 0.1362397820163488\n",
      "saucelabs\n",
      "1.0 0.1362397820163488\n",
      "scanners\n",
      "1.0 0.1362397820163488\n",
      "qemu\n",
      "1.0 0.1362397820163488\n",
      "scm-services\n",
      "1.0 0.1362397820163488\n",
      "serilog\n",
      "1.0 0.1362397820163488\n",
      "shellcheck\n",
      "1.0 0.1362397820163488\n",
      "shemathesis\n",
      "1.0 0.1362397820163488\n",
      "shoulda-matchers\n",
      "1.0 0.1362397820163488\n",
      "shunit\n",
      "1.0 0.1362397820163488\n",
      "simplecov-loc\n",
      "1.0 0.1362397820163488\n",
      "sinon\n",
      "1.0 0.1362397820163488\n",
      "soap-ui\n",
      "1.0 0.1362397820163488\n",
      "sonar\n",
      "1.0 0.1362397820163488\n",
      "sonarcloud\n",
      "1.0 0.1362397820163488\n",
      "spring-test\n",
      "1.0 0.1362397820163488\n",
      "scrutinizer\n",
      "1.0 0.1362397820163488\n",
      "jekyll\n",
      "1.0 0.1362397820163488\n",
      "zope.testrunner\n",
      "1.0 0.1362397820163488\n",
      "gdscript\n",
      "1.0 0.1362397820163488\n",
      "coverlet\n",
      "1.0 0.1362397820163488\n",
      "chaos-mesh\n",
      "1.0 0.1362397820163488\n",
      "fabric8\n",
      "1.0 0.1362397820163488\n",
      "cmock \n",
      "1.0 0.1362397820163488\n",
      "failsafe\n",
      "1.0 0.1362397820163488\n",
      "blackfire\n",
      "1.0 0.1362397820163488\n",
      "benchmarkdotnet\n",
      "1.0 0.1362397820163488\n",
      "espresso\n",
      "1.0 0.1362397820163488\n",
      "fakeiteasy\n",
      "1.0 0.1362397820163488\n",
      "flake\n",
      "1.0 0.1362397820163488\n",
      "ben.demystifier\n",
      "1.0 0.1362397820163488\n",
      "checkstyle\n",
      "1.0 0.1362397820163488\n",
      "bdd\n",
      "1.0 0.1362397820163488\n",
      "fmt\n",
      "1.0 0.1362397820163488\n",
      "gcov\n",
      "1.0 0.1362397820163488\n",
      "ccm\n",
      "1.0 0.1362397820163488\n",
      "firefox\n",
      "1.0 0.1362397820163488\n",
      "chocolatey\n",
      "1.0 0.1362397820163488\n",
      "ember-try\n",
      "1.0 0.1362397820163488\n",
      "eje2\n",
      "1.0 0.1362397820163488\n",
      "catch2\n",
      "1.0 0.1362397820163488\n",
      "database-cleaner\n",
      "1.0 0.1362397820163488\n",
      "industrial_ci\n",
      "1.0 0.1362397820163488\n",
      "busted\n",
      "1.0 0.1362397820163488\n",
      "datatest-stable\n",
      "1.0 0.1362397820163488\n",
      "deno\n",
      "1.0 0.1362397820163488\n",
      "dependency-injection\n",
      "1.0 0.1362397820163488\n",
      "ember-test-helpers\n",
      "1.0 0.1362397820163488\n",
      "buildkite\n",
      "1.0 0.1362397820163488\n",
      "buildbot\n",
      "1.0 0.1362397820163488\n",
      "dottrace\n",
      "1.0 0.1362397820163488\n",
      "chai\n",
      "1.0 0.1362397820163488\n",
      "criterion\n",
      "1.0 0.1362397820163488\n",
      "credo\n",
      "1.0 0.1362397820163488\n",
      "drone\n",
      "1.0 0.1362397820163488\n",
      "e2e-test\n",
      "1.0 0.1362397820163488\n",
      "docker-compose\n",
      "1.0 0.1362397820163488\n",
      "composer\n",
      "1.0 0.1362397820163488\n",
      "ctest2\n",
      "1.0 0.1362397820163488\n",
      "bats\n",
      "1.0 0.1362397820163488\n",
      "bats-core\n",
      "1.0 0.1362397820163488\n",
      "hamcrest\n",
      "1.0 0.1362397820163488\n",
      "heaptrack\n",
      "1.0 0.1362397820163488\n",
      "helm\n",
      "1.0 0.1362397820163488\n",
      "homebrew\n",
      "1.0 0.1362397820163488\n",
      "chromedriver\n",
      "1.0 0.1362397820163488\n",
      "application-insight\n",
      "1.0 0.1362397820163488\n",
      "approvaltests\n",
      "1.0 0.1362397820163488\n",
      "hspec\n",
      "1.0 0.1362397820163488\n",
      "aplunit\n",
      "1.0 0.1362397820163488\n",
      "api-test\n",
      "1.0 0.1362397820163488\n",
      "codecept.js\n",
      "1.0 0.1362397820163488\n",
      "hypothesis\n",
      "1.0 0.1362397820163488\n",
      "cmocka\n",
      "1.0 0.1362397820163488\n",
      "alchemist\n",
      "1.0 0.1362397820163488\n",
      "ad-hoc-tooling\n",
      "1.0 0.1362397820163488\n",
      "hydra\n",
      "1.0 0.1362397820163488\n",
      "grcov\n",
      "1.0 0.1362397820163488\n",
      "gut\n",
      "1.0 0.1362397820163488\n",
      "codeclimate\n",
      "1.0 0.1362397820163488\n",
      "ginkgo\n",
      "1.0 0.1362397820163488\n",
      "github \n",
      "1.0 0.1362397820163488\n",
      "compiletest\n",
      "1.0 0.1362397820163488\n",
      "github-bots\n",
      "1.0 0.1362397820163488\n",
      "bash-tools\n",
      "1.0 0.1362397820163488\n",
      "github-cli\n",
      "1.0 0.1362397820163488\n",
      "chrome\n",
      "1.0 0.1362397820163488\n",
      "asan\n",
      "1.0 0.1362397820163488\n",
      "autofixture\n",
      "1.0 0.1362397820163488\n",
      "aruba\n",
      "1.0 0.1362397820163488\n",
      "godocs\n",
      "1.0 0.1362397820163488\n",
      "google-cloud-build\n",
      "1.0 0.1362397820163488\n",
      "argos\n",
      "1.0 0.1362397820163488\n",
      "gradle\n",
      "1.0 0.1362397820163488\n",
      "go-cli\n",
      "1.0 0.1362397820163488\n",
      "codeql\n",
      "2.0 0.2724795640326976\n",
      "crates\n",
      "2.0 0.2724795640326976\n",
      "spockframework\n",
      "2.0 0.2724795640326976\n",
      "codeception\n",
      "2.0 0.2724795640326976\n",
      "react-testing-library\n",
      "2.0 0.2724795640326976\n",
      "qt-test\n",
      "2.0 0.2724795640326976\n",
      "factory_bot\n",
      "2.0 0.2724795640326976\n",
      "clippy\n",
      "2.0 0.2724795640326976\n",
      "capybara\n",
      "2.0 0.2724795640326976\n",
      "jasmine  \n",
      "2.0 0.2724795640326976\n",
      "xctest\n",
      "2.0 0.2724795640326976\n",
      "kind\n",
      "2.0 0.2724795640326976\n",
      "lcov\n",
      "2.0 0.2724795640326976\n",
      "linters\n",
      "2.0 0.2724795640326976\n",
      "gmock\n",
      "2.0 0.2724795640326976\n",
      "mocha \n",
      "2.0 0.2724795640326976\n",
      "vitest\n",
      "2.0 0.2724795640326976\n",
      "cucumber\n",
      "2.0 0.2724795640326976\n",
      "mvn-surefire\n",
      "2.0 0.2724795640326976\n",
      "behat\n",
      "2.0 0.2724795640326976\n",
      "pest\n",
      "2.0 0.2724795640326976\n",
      "exunit\n",
      "2.0 0.2724795640326976\n",
      "eslint\n",
      "2.0 0.2724795640326976\n",
      "phplint\n",
      "2.0 0.2724795640326976\n",
      "boost.test\n",
      "2.0 0.2724795640326976\n",
      "testify\n",
      "2.0 0.2724795640326976\n",
      "psalm\n",
      "2.0 0.2724795640326976\n",
      "unix-tools\n",
      "2.0 0.2724795640326976\n",
      "simplecov\n",
      "3.0 0.4087193460490463\n",
      "browserstack\n",
      "3.0 0.4087193460490463\n",
      "circleci\n",
      "3.0 0.4087193460490463\n",
      "infection\n",
      "3.0 0.4087193460490463\n",
      ".net\n",
      "3.0 0.4087193460490463\n",
      "flake8\n",
      "3.0 0.4087193460490463\n",
      "ossfuzz\n",
      "3.0 0.4087193460490463\n",
      "pylint\n",
      "3.0 0.4087193460490463\n",
      "karma\n",
      "3.0 0.4087193460490463\n",
      "doctest\n",
      "3.0 0.4087193460490463\n",
      "ctest\n",
      "3.0 0.4087193460490463\n",
      "selenium\n",
      "3.0 0.4087193460490463\n",
      "mypy\n",
      "3.0 0.4087193460490463\n",
      "istanbul\n",
      "3.0 0.4087193460490463\n",
      "qunit\n",
      "3.0 0.4087193460490463\n",
      "fluentassertions\n",
      "4.0 0.5449591280653951\n",
      "flutter_test\n",
      "4.0 0.5449591280653951\n",
      "nunit\n",
      "4.0 0.5449591280653951\n",
      "travis\n",
      "4.0 0.5449591280653951\n",
      "mockito\n",
      "4.0 0.5449591280653951\n",
      "phpstan\n",
      "4.0 0.5449591280653951\n",
      "mocha\n",
      "4.0 0.5449591280653951\n",
      "gtest\n",
      "4.0 0.5449591280653951\n",
      "jacoco\n",
      "4.0 0.5449591280653951\n",
      "docker\n",
      "5.0 0.6811989100817438\n",
      "mstest\n",
      "5.0 0.6811989100817438\n",
      "minitest\n",
      "5.0 0.6811989100817438\n",
      "tox\n",
      "5.0 0.6811989100817438\n",
      "built-in\n",
      "5.0 0.6811989100817438\n",
      "valgrind\n",
      "6.0 0.8174386920980926\n",
      "github-ci\n",
      "6.0 0.8174386920980926\n",
      "dart-test-package\n",
      "6.0 0.8174386920980926\n",
      "366.0\n",
      "246\n"
     ]
    }
   ],
   "source": [
    "sum_others = 0\n",
    "count = 0\n",
    "for x in list(tooling_dict)[:-20]:\n",
    "    print(x)\n",
    "    sum_others+=tooling_dict[x]\n",
    "    count+=1\n",
    "    print(tooling_dict[x], 100*tooling_dict[x]/734)\n",
    "print(sum_others)\n",
    "print(count)"
   ],
   "metadata": {
    "collapsed": false,
    "ExecuteTime": {
     "start_time": "2023-07-06T00:09:22.342217Z",
     "end_time": "2023-07-06T00:09:22.361470Z"
    }
   }
  }
 ],
 "metadata": {
  "kernelspec": {
   "display_name": "gh-quality-analytics",
   "language": "python",
   "name": "python3"
  },
  "language_info": {
   "codemirror_mode": {
    "name": "ipython",
    "version": 3
   },
   "file_extension": ".py",
   "mimetype": "text/x-python",
   "name": "python",
   "nbconvert_exporter": "python",
   "pygments_lexer": "ipython3",
   "version": "3.9.5"
  },
  "orig_nbformat": 4,
  "vscode": {
   "interpreter": {
    "hash": "12eb295cf43f82202ea6ac16e67a9b544410e5b1ffafea6f922e2d331ae86556"
   }
  }
 },
 "nbformat": 4,
 "nbformat_minor": 2
}
