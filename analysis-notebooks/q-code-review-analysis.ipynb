{
 "cells": [
  {
   "cell_type": "code",
   "execution_count": 1,
   "metadata": {
    "ExecuteTime": {
     "start_time": "2023-07-06T00:09:51.107024Z",
     "end_time": "2023-07-06T00:09:51.139004Z"
    }
   },
   "outputs": [],
   "source": [
    "import pandas as pd\n",
    "import matplotlib.pyplot as plt"
   ]
  },
  {
   "cell_type": "code",
   "execution_count": 2,
   "metadata": {
    "ExecuteTime": {
     "start_time": "2023-07-06T00:09:52.036109Z",
     "end_time": "2023-07-06T00:09:52.065114Z"
    }
   },
   "outputs": [],
   "source": [
    "df_all = pd.read_csv(\"data/answers_clean_complete.csv\")\n",
    "df_all = df_all.drop('Unnamed: 0', axis=1)\n",
    "df_all = df_all.iloc[2:].reset_index(drop=True)"
   ]
  },
  {
   "cell_type": "code",
   "execution_count": 3,
   "metadata": {
    "ExecuteTime": {
     "start_time": "2023-07-06T00:09:53.809101Z",
     "end_time": "2023-07-06T00:09:53.827743Z"
    }
   },
   "outputs": [],
   "source": [
    "df = df_all[[ 'role', 'PR_comments', 'PR_comments_kind', 'PR_comments_count_tests',\n",
    "       'PR_comments_count_code_quality', 'PR_comments_count_defect',\n",
    "       'PR_comments_kind_other', 'reviewers', 'CR_checklist',\n",
    "       'CR_checklist_location', 'PR_checks', 'PR_checks_type',\n",
    "       'PR_checks_type_other', 'how_CR_helps']]"
   ]
  },
  {
   "cell_type": "code",
   "execution_count": 4,
   "metadata": {
    "ExecuteTime": {
     "start_time": "2023-07-06T00:09:54.099143Z",
     "end_time": "2023-07-06T00:09:54.106823Z"
    }
   },
   "outputs": [],
   "source": [
    "count_all = df.shape[0]\n",
    "contributors = df['role'] == 'Source code contributor'\n",
    "maintainers = df['role'] != 'Source code contributor'\n",
    "count_contributors = df[contributors].shape[0]\n",
    "count_maintainers = df[maintainers].shape[0]"
   ]
  },
  {
   "cell_type": "code",
   "execution_count": 5,
   "metadata": {
    "ExecuteTime": {
     "start_time": "2023-07-06T00:09:00.866239Z",
     "end_time": "2023-07-06T00:09:00.875531Z"
    }
   },
   "outputs": [
    {
     "name": "stdout",
     "output_type": "stream",
     "text": [
      "No answer: 42\n",
      "8.9171974522293\n",
      "Answer: 429\n",
      "91.0828025477707\n",
      "-----\n",
      "Contributors:\n",
      "10.695187165775401\n",
      "20\n",
      "-----\n",
      "Maintainers:\n",
      "7.746478873239437\n",
      "22\n"
     ]
    }
   ],
   "source": [
    "print('No answer:', df['PR_comments'].isna().sum())\n",
    "print((df['PR_comments'].isna().sum()) * 100 / count_all)\n",
    "print('Answer:', count_all - df['PR_comments'].isna().sum() )\n",
    "print((count_all - df['PR_comments'].isna().sum()) * 100 / count_all)\n",
    "print('-----')\n",
    "print('Contributors:')\n",
    "print(df[contributors]['PR_comments'].isna().sum() * 100 / count_contributors)\n",
    "print(df[contributors]['PR_comments'].isna().sum())\n",
    "print('-----')\n",
    "print('Maintainers:')\n",
    "print(df[maintainers]['PR_comments'].isna().sum() * 100 / count_maintainers)\n",
    "print(df[maintainers]['PR_comments'].isna().sum())"
   ]
  },
  {
   "cell_type": "code",
   "execution_count": 6,
   "outputs": [
    {
     "name": "stdout",
     "output_type": "stream",
     "text": [
      "20\n",
      "167\n",
      "-----\n",
      "22\n",
      "262\n"
     ]
    }
   ],
   "source": [
    "print(df[contributors]['PR_comments'].isna().sum())\n",
    "print(count_contributors - df[contributors]['PR_comments'].isna().sum())\n",
    "# print(df[contributors].PR_comments.value_counts())\n",
    "print('-----')\n",
    "print(df[maintainers]['PR_comments'].isna().sum())\n",
    "print(count_maintainers - df[maintainers]['PR_comments'].isna().sum())\n",
    "# print(df[maintainers].PR_comments.value_counts())"
   ],
   "metadata": {
    "collapsed": false,
    "ExecuteTime": {
     "start_time": "2023-07-06T00:09:01.622537Z",
     "end_time": "2023-07-06T00:09:01.632274Z"
    }
   }
  },
  {
   "cell_type": "code",
   "execution_count": 7,
   "metadata": {
    "ExecuteTime": {
     "start_time": "2023-07-06T00:09:02.149982Z",
     "end_time": "2023-07-06T00:09:02.189499Z"
    }
   },
   "outputs": [
    {
     "name": "stdout",
     "output_type": "stream",
     "text": [
      "15\n",
      "27\n",
      "---\n",
      "19\n",
      "35\n",
      "---\n",
      "2\n",
      "4\n"
     ]
    }
   ],
   "source": [
    "# df[~df[\"PR_comments\"].isna()][['PR_comments']].to_csv(\"manual_data_inspection/PR_comments.csv\")\n",
    "data = pd.read_excel('manual_data_inspection/PR_comments_inspected.xlsx')\n",
    "invalid_indexes = data[data['invalid'] == 1]['Column1'].astype(int).tolist()\n",
    "zero_indexes = data[data['zero'] == 1]['Column1'].astype(int).tolist()\n",
    "donno_indexes = data[data[\"I don\\'t know\"] == 1]['Column1'].astype(int).tolist()\n",
    "print(df[df.index.isin(invalid_indexes) & (contributors)].shape[0])\n",
    "print(df[df.index.isin(invalid_indexes) & (maintainers)].shape[0])\n",
    "print('---')\n",
    "print(df[df.index.isin(zero_indexes) & (contributors)].shape[0])\n",
    "print(df[df.index.isin(zero_indexes) & (maintainers)].shape[0])\n",
    "print('---')\n",
    "print(df[df.index.isin(donno_indexes) & (contributors)].shape[0])\n",
    "print(df[df.index.isin(donno_indexes) & (maintainers)].shape[0])"
   ]
  },
  {
   "cell_type": "code",
   "execution_count": 8,
   "metadata": {
    "ExecuteTime": {
     "start_time": "2023-07-06T00:09:03.060589Z",
     "end_time": "2023-07-06T00:09:03.062757Z"
    }
   },
   "outputs": [
    {
     "name": "stdout",
     "output_type": "stream",
     "text": [
      "No answer: 84\n",
      "17.8343949044586\n",
      "Answer: 387\n",
      "82.1656050955414\n",
      "-----\n",
      "Contributors:\n",
      "17.647058823529413\n",
      "33\n",
      "-----\n",
      "Maintainers:\n",
      "17.95774647887324\n",
      "51\n"
     ]
    }
   ],
   "source": [
    "print('No answer:', df['PR_comments_kind'].isna().sum())\n",
    "print((df['PR_comments_kind'].isna().sum()) * 100 / count_all)\n",
    "print('Answer:', count_all - df['PR_comments_kind'].isna().sum() )\n",
    "print((count_all - df['PR_comments_kind'].isna().sum()) * 100 / count_all)\n",
    "print('-----')\n",
    "print('Contributors:')\n",
    "print(df[contributors]['PR_comments_kind'].isna().sum() * 100 / count_contributors)\n",
    "print(df[contributors]['PR_comments_kind'].isna().sum())\n",
    "print('-----')\n",
    "print('Maintainers:')\n",
    "print(df[maintainers]['PR_comments_kind'].isna().sum() * 100 / count_maintainers)\n",
    "print(df[maintainers]['PR_comments_kind'].isna().sum())"
   ]
  },
  {
   "cell_type": "code",
   "execution_count": 9,
   "outputs": [
    {
     "name": "stdout",
     "output_type": "stream",
     "text": [
      "33\n",
      "154\n",
      "-----\n",
      "51\n",
      "233\n"
     ]
    }
   ],
   "source": [
    "print(df[contributors]['PR_comments_kind'].isna().sum())\n",
    "print(count_contributors - df[contributors]['PR_comments_kind'].isna().sum())\n",
    "# print(df[contributors].PR_comments.value_counts())\n",
    "print('-----')\n",
    "print(df[maintainers]['PR_comments_kind'].isna().sum())\n",
    "print(count_maintainers - df[maintainers]['PR_comments_kind'].isna().sum())\n",
    "# print(df[maintainers].PR_comments.value_counts())"
   ],
   "metadata": {
    "collapsed": false,
    "ExecuteTime": {
     "start_time": "2023-07-06T00:09:04.000904Z",
     "end_time": "2023-07-06T00:09:04.016319Z"
    }
   }
  },
  {
   "cell_type": "code",
   "execution_count": 10,
   "metadata": {
    "ExecuteTime": {
     "start_time": "2023-07-06T00:09:05.941196Z",
     "end_time": "2023-07-06T00:09:05.951578Z"
    }
   },
   "outputs": [
    {
     "name": "stderr",
     "output_type": "stream",
     "text": [
      "<ipython-input-10-01fff4f67f60>:1: SettingWithCopyWarning: \n",
      "A value is trying to be set on a copy of a slice from a DataFrame.\n",
      "Try using .loc[row_indexer,col_indexer] = value instead\n",
      "\n",
      "See the caveats in the documentation: https://pandas.pydata.org/pandas-docs/stable/user_guide/indexing.html#returning-a-view-versus-a-copy\n",
      "  df['PR_comments_test'] = df['PR_comments_kind'].apply(lambda x: True if 'Tests' in str(x) else False)\n",
      "<ipython-input-10-01fff4f67f60>:2: SettingWithCopyWarning: \n",
      "A value is trying to be set on a copy of a slice from a DataFrame.\n",
      "Try using .loc[row_indexer,col_indexer] = value instead\n",
      "\n",
      "See the caveats in the documentation: https://pandas.pydata.org/pandas-docs/stable/user_guide/indexing.html#returning-a-view-versus-a-copy\n",
      "  df['PR_comments_code_quality'] = df['PR_comments_kind'].apply(lambda x: True if 'Code quality or maintainability' in str(x) else False)\n",
      "<ipython-input-10-01fff4f67f60>:3: SettingWithCopyWarning: \n",
      "A value is trying to be set on a copy of a slice from a DataFrame.\n",
      "Try using .loc[row_indexer,col_indexer] = value instead\n",
      "\n",
      "See the caveats in the documentation: https://pandas.pydata.org/pandas-docs/stable/user_guide/indexing.html#returning-a-view-versus-a-copy\n",
      "  df['PR_comments_functional'] = df['PR_comments_kind'].apply(lambda x: True if 'Functional' in str(x) else False)\n",
      "<ipython-input-10-01fff4f67f60>:4: SettingWithCopyWarning: \n",
      "A value is trying to be set on a copy of a slice from a DataFrame.\n",
      "Try using .loc[row_indexer,col_indexer] = value instead\n",
      "\n",
      "See the caveats in the documentation: https://pandas.pydata.org/pandas-docs/stable/user_guide/indexing.html#returning-a-view-versus-a-copy\n",
      "  df['PR_comments_other'] = df['PR_comments_kind'].apply(lambda x: True if 'Other' in str(x) else False)\n"
     ]
    }
   ],
   "source": [
    "df['PR_comments_test'] = df['PR_comments_kind'].apply(lambda x: True if 'Tests' in str(x) else False)\n",
    "df['PR_comments_code_quality'] = df['PR_comments_kind'].apply(lambda x: True if 'Code quality or maintainability' in str(x) else False)\n",
    "df['PR_comments_functional'] = df['PR_comments_kind'].apply(lambda x: True if 'Functional' in str(x) else False)\n",
    "df['PR_comments_other'] = df['PR_comments_kind'].apply(lambda x: True if 'Other' in str(x) else False)"
   ]
  },
  {
   "cell_type": "code",
   "execution_count": 11,
   "metadata": {
    "ExecuteTime": {
     "start_time": "2023-04-17T10:29:26.681611Z",
     "end_time": "2023-04-17T10:29:26.774082Z"
    }
   },
   "outputs": [
    {
     "data": {
      "text/plain": "<Figure size 432x288 with 1 Axes>",
      "image/png": "[encoded data removed]"
     },
     "metadata": {},
     "output_type": "display_data"
    },
    {
     "name": "stdout",
     "output_type": "stream",
     "text": [
      "Number of not-answered: 84\n",
      "Number of answered: 387\n"
     ]
    }
   ],
   "source": [
    "test_kinds = ['Tests', 'Code Quality/Maintainability Defects', 'Functional Defects', 'Other']\n",
    "counts = [df.PR_comments_test.sum(), df.PR_comments_code_quality.sum(), df.PR_comments_functional.sum(), df.PR_comments_other.sum()]\n",
    "fig, ax = plt.subplots()\n",
    "ax.bar(test_kinds, counts)\n",
    "ax.set_ylabel('Count')\n",
    "ax.set_title('Comments subject')\n",
    "plt.xticks(rotation=30, ha='right')\n",
    "plt.show()\n",
    "\n",
    "print(\"Number of not-answered:\", df.PR_comments_kind.isna().sum())\n",
    "print(\"Number of answered:\", df.shape[0] - df.PR_comments_kind.isna().sum())"
   ]
  },
  {
   "cell_type": "code",
   "execution_count": 12,
   "metadata": {
    "ExecuteTime": {
     "start_time": "2023-04-17T10:29:26.856320Z",
     "end_time": "2023-04-17T10:29:26.859282Z"
    }
   },
   "outputs": [
    {
     "name": "stdout",
     "output_type": "stream",
     "text": [
      "32.041343669250644\n",
      "63.049095607235145\n",
      "35.65891472868217\n",
      "39.53488372093023\n"
     ]
    }
   ],
   "source": [
    "print(df['PR_comments_test'].sum() * 100 / 387)\n",
    "print(df['PR_comments_code_quality'].sum() * 100 / 387)\n",
    "print(df['PR_comments_functional'].sum() * 100 / 387)\n",
    "print(df['PR_comments_other'].sum() * 100 / 387)"
   ]
  },
  {
   "cell_type": "code",
   "execution_count": 13,
   "outputs": [
    {
     "name": "stdout",
     "output_type": "stream",
     "text": [
      "Index(['Column1', 'PR_comments_count_tests', 'PR_comments_count_tests_boxplot',\n",
      "       'PR_comments_count_code_quality',\n",
      "       'PR_comments_count_code_quality_boxplot', 'PR_comments_count_defect',\n",
      "       'PR_comments_count_defect_boxplot'],\n",
      "      dtype='object')\n",
      "Index(['Column1', 'PR_comments_kind_other', 'Count', 'Use for boxplot'], dtype='object')\n"
     ]
    }
   ],
   "source": [
    "data = pd.read_excel('manual_data_inspection/PR_comments_counts_inspected.xlsx')\n",
    "data2 = pd.read_excel('manual_data_inspection/PR_comments_kind_other_coding.xlsx')\n",
    "print(data.columns)\n",
    "print(data2.columns)"
   ],
   "metadata": {
    "collapsed": false,
    "ExecuteTime": {
     "start_time": "2023-06-29T11:13:49.015589Z",
     "end_time": "2023-06-29T11:13:49.056966Z"
    }
   }
  },
  {
   "cell_type": "code",
   "execution_count": 14,
   "outputs": [
    {
     "data": {
      "text/plain": "<Figure size 432x288 with 1 Axes>",
      "image/png": "[encoded data removed]"
     },
     "metadata": {},
     "output_type": "display_data"
    }
   ],
   "source": [
    "column1 = 'PR_comments_count_tests_boxplot'\n",
    "column2 = 'PR_comments_count_code_quality_boxplot'\n",
    "column3 = 'PR_comments_count_defect_boxplot'\n",
    "column4 = 'Use for boxplot'\n",
    "\n",
    "fig, ax = plt.subplots()\n",
    "\n",
    "# Create a list of the column values\n",
    "column_values = [data[column1].dropna(), data[column2].dropna(), data[column3].dropna(), data2[column4].dropna()]\n",
    "# Create the box plots\n",
    "boxplot = ax.boxplot(column_values, vert=False, patch_artist=True,\n",
    "                     boxprops=dict(facecolor='gray'),  # Change the box color\n",
    "                     capprops=dict(color='black'),  # Change the color of the caps\n",
    "                     whiskerprops=dict(color='black'),  # Change the color of the whiskers\n",
    "                     medianprops=dict(color='black'),  # Change the color of the median line\n",
    "                     flierprops=dict(marker='o', markerfacecolor='black', markersize=5))  # Change the color and style of the outliers\n",
    "\n",
    "# Set the title\n",
    "# ax.set_title('Box Plots')dd\n",
    "\n",
    "# Set the y-axis label\n",
    "ax.set_xlabel('Number of Comments')\n",
    "ax.set_yticklabels(['Tests', 'Code Quality \\nor Maintainability Defects', 'Functional Defects', 'Other'])\n",
    "# ax.set_yticklabels(ax.get_yticklabels(), rotation=0)\n",
    "# for ax in axes:\n",
    "#        ax.set_xticks([])\n",
    "#        ax.set_xlabel('')\n",
    "plt.subplots_adjust(left=0.285)\n",
    "plt.savefig('figures/boxplot-comments-per-type.pdf', format='pdf', dpi=300)\n",
    "plt.show()"
   ],
   "metadata": {
    "collapsed": false
   }
  },
  {
   "cell_type": "code",
   "execution_count": 15,
   "outputs": [],
   "source": [
    "new_df = pd.concat([data[column1].dropna(), data[column2].dropna(), data[column3].dropna(), data2[column4].dropna()], axis=1)"
   ],
   "metadata": {
    "collapsed": false,
    "ExecuteTime": {
     "start_time": "2023-06-29T11:13:50.175431Z",
     "end_time": "2023-06-29T11:13:50.197710Z"
    }
   }
  },
  {
   "cell_type": "code",
   "execution_count": 16,
   "outputs": [
    {
     "name": "stderr",
     "output_type": "stream",
     "text": [
      "<ipython-input-16-a4deeb76575d>:3: MatplotlibDeprecationWarning: Adding an axes using the same arguments as a previous axes currently reuses the earlier instance.  In a future version, a new instance will always be created and returned.  Meanwhile, this warning can be suppressed, and the future behavior ensured, by passing a unique label to each axes instance.\n",
      "  axes = plt.axes()\n"
     ]
    },
    {
     "data": {
      "text/plain": "<Figure size 432x288 with 1 Axes>",
      "image/png": "[encoded data removed]"
     },
     "metadata": {},
     "output_type": "display_data"
    }
   ],
   "source": [
    "import seaborn as sns\n",
    "sns.boxplot(data=new_df[[column1, column2, column3, column4]], orient=\"h\")\n",
    "axes = plt.axes()\n",
    "axes.set_xlabel('Number of Comments')\n",
    "axes.set_yticklabels(['Tests', 'Code Quality \\nor Maintainability Defects', 'Functional Defects', 'Other'])\n",
    "plt.subplots_adjust(left=0.285, right=0.8, top=0.9, bottom=0.6)\n",
    "plt.savefig('figures/boxplot-comments-per-type.pdf', format='pdf', dpi=300, bbox_inches='tight')\n",
    "plt.show()"
   ],
   "metadata": {
    "collapsed": false,
    "ExecuteTime": {
     "start_time": "2023-06-29T11:14:01.092197Z",
     "end_time": "2023-06-29T11:14:01.276235Z"
    }
   }
  },
  {
   "cell_type": "code",
   "execution_count": 17,
   "outputs": [
    {
     "data": {
      "text/plain": "<Figure size 432x288 with 1 Axes>",
      "image/png": "[encoded data removed]"
     },
     "metadata": {},
     "output_type": "display_data"
    }
   ],
   "source": [
    "column1 = 'PR_comments_count_tests_boxplot'\n",
    "column2 = 'PR_comments_count_code_quality_boxplot'\n",
    "column3 = 'PR_comments_count_defect_boxplot'\n",
    "column4 = 'Use for boxplot'\n",
    "\n",
    "fig, ax = plt.subplots()\n",
    "\n",
    "# Create a list of the column values\n",
    "column_values = [data[column1].dropna(), data[column2].dropna(), data[column3].dropna(), data2[column4].dropna()]\n",
    "\n",
    "# Create the box plots\n",
    "boxplot = ax.boxplot(column_values, vert=False, patch_artist=True, showfliers=False)\n",
    "\n",
    "ax.set_yticklabels(['Tests', 'Code Quality \\nor Maintainability Defects', 'Functional Defects', 'Other'])\n",
    "\n",
    "# Set the title\n",
    "# ax.set_title('Box Plots')\n",
    "\n",
    "# Set the y-axis label\n",
    "ax.set_xlabel('Number of Comments')\n",
    "ax.set_yticklabels(ax.get_yticklabels(), rotation=0)\n",
    "# for ax in axes:\n",
    "#        ax.set_xticks([])\n",
    "#        ax.set_xlabel('')\n",
    "\n",
    "plt.savefig('figures/boxplot-comments-per-type-no-outliers.pdf', format='pdf')\n",
    "\n",
    "plt.show()"
   ],
   "metadata": {
    "collapsed": false,
    "ExecuteTime": {
     "start_time": "2023-06-15T11:28:55.028344Z",
     "end_time": "2023-06-15T11:28:55.125585Z"
    }
   }
  },
  {
   "cell_type": "code",
   "execution_count": 18,
   "outputs": [
    {
     "name": "stdout",
     "output_type": "stream",
     "text": [
      "52 100 62 49\n"
     ]
    }
   ],
   "source": [
    "print(data[column1].shape[0] - data[column1].isnull().sum(),\n",
    "      data[column2].shape[0] - data[column2].isnull().sum(),\n",
    "      data[column3].shape[0] - data[column3].isnull().sum(),\n",
    "      data2[column4].shape[0] - data2[column4].isnull().sum())"
   ],
   "metadata": {
    "collapsed": false,
    "ExecuteTime": {
     "start_time": "2023-06-15T11:32:09.772595Z",
     "end_time": "2023-06-15T11:32:09.797420Z"
    }
   }
  },
  {
   "cell_type": "code",
   "execution_count": 19,
   "metadata": {
    "ExecuteTime": {
     "start_time": "2023-04-17T10:29:27.066405Z",
     "end_time": "2023-04-17T10:29:27.073100Z"
    }
   },
   "outputs": [],
   "source": [
    "df[~df[\"PR_comments_kind_other\"].isna()][['PR_comments_kind_other']].to_csv(\"manual_data_inspection/PR_comments_kind_other.csv\")"
   ]
  },
  {
   "cell_type": "code",
   "execution_count": 20,
   "metadata": {
    "ExecuteTime": {
     "start_time": "2023-04-17T10:29:27.204409Z",
     "end_time": "2023-04-17T10:29:27.209074Z"
    }
   },
   "outputs": [],
   "source": [
    "df[(~df[\"PR_comments_count_tests\"].isna()) | (~df[\"PR_comments_count_code_quality\"].isna()) | (~df[\"PR_comments_count_defect\"].isna())][['PR_comments_count_tests','PR_comments_count_code_quality', 'PR_comments_count_defect']].to_csv(\"manual_data_inspection/PR_comments_counts.csv\")"
   ]
  },
  {
   "cell_type": "code",
   "execution_count": 21,
   "outputs": [
    {
     "data": {
      "text/plain": "<Figure size 432x288 with 1 Axes>",
      "image/png": "[encoded data removed]"
     },
     "metadata": {},
     "output_type": "display_data"
    }
   ],
   "source": [
    "data = pd.read_excel('manual_data_inspection/PR_comments_inspected.xlsx')\n",
    "fig, ax = plt.subplots()\n",
    "\n",
    "# Specify the column containing the values for the box plot\n",
    "column_name = 'Use for box plot'\n",
    "\n",
    "# Create the box plot\n",
    "boxplot = ax.boxplot(data[column_name].dropna(), showfliers=False, vert=False,\n",
    "                     patch_artist=True)  # Enable patch artist\n",
    "\n",
    "# Set box colors\n",
    "box_color = 'lightgray'\n",
    "for box in boxplot['boxes']:\n",
    "    box.set(facecolor=box_color)  # Set facecolor for each box patch\n",
    "\n",
    "# Set color properties for other elements\n",
    "for element in ['caps', 'whiskers', 'medians', 'fliers']:\n",
    "    for line in boxplot[element]:\n",
    "        line.set(color='black')  # Set color for each element\n",
    "\n",
    "# Set marker properties for fliers\n",
    "for flier in boxplot['fliers']:\n",
    "    flier.set(marker='o', markerfacecolor='black', markersize=5)  # Set marker properties for fliers\n",
    "# Set x-axis label and hide y-axis ticks\n",
    "ax.set_xlabel('Number of Comments')\n",
    "ax.set_yticklabels([])\n",
    "ax.set_aspect(5)\n",
    "# Save the figure as a PDF\n",
    "plt.savefig('figures/boxplot-comments-per-pr.pdf', format='pdf')\n",
    "\n",
    "# Show the plot\n",
    "plt.show()"
   ],
   "metadata": {
    "collapsed": false,
    "ExecuteTime": {
     "start_time": "2023-06-29T11:07:51.865363Z",
     "end_time": "2023-06-29T11:07:52.092295Z"
    }
   }
  },
  {
   "cell_type": "code",
   "execution_count": 22,
   "outputs": [
    {
     "name": "stderr",
     "output_type": "stream",
     "text": [
      "<ipython-input-22-ca6fcdbbb8fe>:2: MatplotlibDeprecationWarning: Adding an axes using the same arguments as a previous axes currently reuses the earlier instance.  In a future version, a new instance will always be created and returned.  Meanwhile, this warning can be suppressed, and the future behavior ensured, by passing a unique label to each axes instance.\n",
      "  axes = plt.axes()\n"
     ]
    },
    {
     "data": {
      "text/plain": "<Figure size 432x288 with 1 Axes>",
      "image/png": "[encoded data removed]"
     },
     "metadata": {},
     "output_type": "display_data"
    }
   ],
   "source": [
    "sns.boxplot(data=data[column_name].dropna(), orient=\"h\")\n",
    "axes = plt.axes()\n",
    "axes.set_xlabel('Number of Comments')\n",
    "axes.set_yticklabels([])\n",
    "plt.subplots_adjust(left=0.1, right=0.9, top=0.9, bottom=0.8)\n",
    "plt.savefig('figures/boxplot-comments-per-pr.pdf', format='pdf', dpi=300, bbox_inches='tight')\n",
    "plt.show()"
   ],
   "metadata": {
    "collapsed": false,
    "ExecuteTime": {
     "start_time": "2023-06-29T11:08:05.614566Z",
     "end_time": "2023-06-29T11:08:05.727861Z"
    }
   }
  },
  {
   "cell_type": "code",
   "execution_count": 23,
   "outputs": [
    {
     "name": "stdout",
     "output_type": "stream",
     "text": [
      "50\n",
      "373\n"
     ]
    }
   ],
   "source": [
    "data = pd.read_excel('manual_data_inspection/PR_comments_inspected.xlsx')\n",
    "print(data['Use for box plot'].isnull().sum())\n",
    "print(data['Use for box plot'].shape[0] - 57)"
   ],
   "metadata": {
    "collapsed": false,
    "ExecuteTime": {
     "start_time": "2023-06-26T11:51:37.529594Z",
     "end_time": "2023-06-26T11:51:37.577404Z"
    }
   }
  },
  {
   "cell_type": "code",
   "execution_count": 24,
   "outputs": [
    {
     "data": {
      "text/plain": "54"
     },
     "execution_count": 24,
     "metadata": {},
     "output_type": "execute_result"
    }
   ],
   "source": [
    "data[data['Use for box plot'] == 0].shape[0]"
   ],
   "metadata": {
    "collapsed": false,
    "ExecuteTime": {
     "start_time": "2023-06-26T11:51:38.672933Z",
     "end_time": "2023-06-26T11:51:38.687553Z"
    }
   }
  },
  {
   "cell_type": "code",
   "execution_count": 25,
   "outputs": [
    {
     "data": {
      "text/plain": "   Column1 PR_comments  exact  range  zero  >10  >20  >50  ~100 and more  \\\n0      0.0           4    1.0    NaN   NaN  NaN  NaN  NaN            NaN   \n1      1.0           5    1.0    NaN   NaN  NaN  NaN  NaN            NaN   \n2      2.0           5    1.0    NaN   NaN  NaN  NaN  NaN            NaN   \n\n   Use for box plot  invalid  I don't know  \n0               4.0      NaN           NaN  \n1               5.0      NaN           NaN  \n2               5.0      NaN           NaN  ",
      "text/html": "<div>\n<style scoped>\n    .dataframe tbody tr th:only-of-type {\n        vertical-align: middle;\n    }\n\n    .dataframe tbody tr th {\n        vertical-align: top;\n    }\n\n    .dataframe thead th {\n        text-align: right;\n    }\n</style>\n<table border=\"1\" class=\"dataframe\">\n  <thead>\n    <tr style=\"text-align: right;\">\n      <th></th>\n      <th>Column1</th>\n      <th>PR_comments</th>\n      <th>exact</th>\n      <th>range</th>\n      <th>zero</th>\n      <th>&gt;10</th>\n      <th>&gt;20</th>\n      <th>&gt;50</th>\n      <th>~100 and more</th>\n      <th>Use for box plot</th>\n      <th>invalid</th>\n      <th>I don't know</th>\n    </tr>\n  </thead>\n  <tbody>\n    <tr>\n      <th>0</th>\n      <td>0.0</td>\n      <td>4</td>\n      <td>1.0</td>\n      <td>NaN</td>\n      <td>NaN</td>\n      <td>NaN</td>\n      <td>NaN</td>\n      <td>NaN</td>\n      <td>NaN</td>\n      <td>4.0</td>\n      <td>NaN</td>\n      <td>NaN</td>\n    </tr>\n    <tr>\n      <th>1</th>\n      <td>1.0</td>\n      <td>5</td>\n      <td>1.0</td>\n      <td>NaN</td>\n      <td>NaN</td>\n      <td>NaN</td>\n      <td>NaN</td>\n      <td>NaN</td>\n      <td>NaN</td>\n      <td>5.0</td>\n      <td>NaN</td>\n      <td>NaN</td>\n    </tr>\n    <tr>\n      <th>2</th>\n      <td>2.0</td>\n      <td>5</td>\n      <td>1.0</td>\n      <td>NaN</td>\n      <td>NaN</td>\n      <td>NaN</td>\n      <td>NaN</td>\n      <td>NaN</td>\n      <td>NaN</td>\n      <td>5.0</td>\n      <td>NaN</td>\n      <td>NaN</td>\n    </tr>\n  </tbody>\n</table>\n</div>"
     },
     "execution_count": 25,
     "metadata": {},
     "output_type": "execute_result"
    }
   ],
   "source": [
    "data.head(3)"
   ],
   "metadata": {
    "collapsed": false,
    "ExecuteTime": {
     "start_time": "2023-06-26T11:51:39.258166Z",
     "end_time": "2023-06-26T11:51:39.264999Z"
    }
   }
  },
  {
   "cell_type": "code",
   "execution_count": 26,
   "metadata": {
    "ExecuteTime": {
     "start_time": "2023-04-17T10:29:27.352295Z",
     "end_time": "2023-04-17T10:29:27.357955Z"
    }
   },
   "outputs": [
    {
     "data": {
      "text/plain": "1                217\n2                132\nMore than 2       58\n0                 51\nI don't know.      7\nName: reviewers, dtype: int64"
     },
     "execution_count": 26,
     "metadata": {},
     "output_type": "execute_result"
    }
   ],
   "source": [
    "df.reviewers.value_counts()"
   ]
  },
  {
   "cell_type": "code",
   "execution_count": 27,
   "metadata": {
    "ExecuteTime": {
     "start_time": "2023-04-17T10:29:27.526633Z",
     "end_time": "2023-04-17T10:29:27.591187Z"
    }
   },
   "outputs": [
    {
     "data": {
      "text/plain": "<Figure size 432x288 with 1 Axes>",
      "image/png": "[encoded data removed]"
     },
     "metadata": {},
     "output_type": "display_data"
    },
    {
     "name": "stdout",
     "output_type": "stream",
     "text": [
      "Number of not-answered: 6\n",
      "Number of answered: 465\n"
     ]
    }
   ],
   "source": [
    "reviewers_count = ['0', '1', '2', '>2', \"I don't know\"]\n",
    "counts = [df.reviewers.value_counts()['0'], df.reviewers.value_counts()['1'], df.reviewers.value_counts()['2'], df.reviewers.value_counts()['More than 2'], df.reviewers.value_counts()[\"I don't know.\"]]\n",
    "fig, ax = plt.subplots()\n",
    "ax.bar(reviewers_count, counts)\n",
    "ax.set_ylabel('Count')\n",
    "ax.set_title('Count of reviewers in a pull request')\n",
    "# plt.xticks(rotation=30, ha='right')\n",
    "plt.show()\n",
    "\n",
    "print(\"Number of not-answered:\", df.reviewers.isna().sum())\n",
    "print(\"Number of answered:\", df.shape[0] - df.reviewers.isna().sum())"
   ]
  },
  {
   "cell_type": "code",
   "execution_count": 28,
   "outputs": [
    {
     "name": "stdout",
     "output_type": "stream",
     "text": [
      "3\n",
      "184\n",
      "1                85\n",
      "2                61\n",
      "More than 2      27\n",
      "0                 9\n",
      "I don't know.     2\n",
      "Name: reviewers, dtype: int64\n",
      "-----\n",
      "3\n",
      "281\n",
      "1                132\n",
      "2                 71\n",
      "0                 42\n",
      "More than 2       31\n",
      "I don't know.      5\n",
      "Name: reviewers, dtype: int64\n"
     ]
    }
   ],
   "source": [
    "print(df[contributors]['reviewers'].isna().sum())\n",
    "print(count_contributors - df[contributors]['reviewers'].isna().sum())\n",
    "print(df[contributors].reviewers.value_counts())\n",
    "print('-----')\n",
    "print(df[maintainers]['reviewers'].isna().sum())\n",
    "print(count_maintainers - df[maintainers]['reviewers'].isna().sum())\n",
    "print(df[maintainers].reviewers.value_counts())"
   ],
   "metadata": {
    "collapsed": false,
    "ExecuteTime": {
     "start_time": "2023-06-29T17:16:07.769595Z",
     "end_time": "2023-06-29T17:16:07.778619Z"
    }
   }
  },
  {
   "cell_type": "code",
   "execution_count": 29,
   "metadata": {
    "ExecuteTime": {
     "start_time": "2023-04-17T10:29:27.721614Z",
     "end_time": "2023-04-17T10:29:27.725293Z"
    }
   },
   "outputs": [
    {
     "name": "stdout",
     "output_type": "stream",
     "text": [
      "10.96774193548387\n",
      "46.666666666666664\n",
      "28.387096774193548\n",
      "12.473118279569892\n",
      "1.5053763440860215\n"
     ]
    }
   ],
   "source": [
    "print(df.reviewers.value_counts()['0'] * 100 / 465)\n",
    "print(df.reviewers.value_counts()['1'] * 100 / 465)\n",
    "print(df.reviewers.value_counts()['2'] * 100 / 465)\n",
    "print(df.reviewers.value_counts()['More than 2'] * 100 / 465)\n",
    "print(df.reviewers.value_counts()[\"I don't know.\"] * 100 / 465)"
   ]
  },
  {
   "cell_type": "code",
   "execution_count": 30,
   "metadata": {
    "ExecuteTime": {
     "start_time": "2023-04-17T10:29:27.874793Z",
     "end_time": "2023-04-17T10:29:27.884071Z"
    }
   },
   "outputs": [
    {
     "name": "stdout",
     "output_type": "stream",
     "text": [
      "0 reviewers: \n",
      "4.81283422459893\n",
      "14.788732394366198\n",
      "1 reviewers: \n",
      "45.45454545454545\n",
      "46.478873239436616\n",
      "2 reviewers: \n",
      "32.62032085561497\n",
      "25.0\n",
      ">2 reviewers: \n",
      "14.438502673796792\n",
      "10.915492957746478\n",
      "Donno: \n",
      "1.0695187165775402\n",
      "1.7605633802816902\n"
     ]
    }
   ],
   "source": [
    "print('0 reviewers: ')\n",
    "print(df[contributors].reviewers.value_counts()['0'] * 100 / count_contributors)\n",
    "print(df[maintainers].reviewers.value_counts()['0'] * 100 / count_maintainers)\n",
    "\n",
    "print('1 reviewers: ')\n",
    "print(df[contributors].reviewers.value_counts()['1'] * 100 / count_contributors)\n",
    "print(df[maintainers].reviewers.value_counts()['1'] * 100 / count_maintainers)\n",
    "\n",
    "print('2 reviewers: ')\n",
    "print(df[contributors].reviewers.value_counts()['2'] * 100 / count_contributors)\n",
    "print(df[maintainers].reviewers.value_counts()['2'] * 100 / count_maintainers)\n",
    "\n",
    "print('>2 reviewers: ')\n",
    "print(df[contributors].reviewers.value_counts()['More than 2'] * 100 / count_contributors)\n",
    "print(df[maintainers].reviewers.value_counts()['More than 2'] * 100 / count_maintainers)\n",
    "\n",
    "print('Donno: ')\n",
    "print(df[contributors].reviewers.value_counts()[\"I don't know.\"] * 100 / count_contributors)\n",
    "print(df[maintainers].reviewers.value_counts()[\"I don't know.\"] * 100 / count_maintainers)"
   ]
  },
  {
   "cell_type": "code",
   "execution_count": 31,
   "metadata": {
    "ExecuteTime": {
     "start_time": "2023-04-17T10:29:28.072422Z",
     "end_time": "2023-04-17T10:29:28.078609Z"
    }
   },
   "outputs": [
    {
     "data": {
      "text/plain": "Yes (Please provide a link to it in the text box below):    234\nNo.                                                         167\nNot aware of it.                                             64\nName: CR_checklist, dtype: int64"
     },
     "execution_count": 31,
     "metadata": {},
     "output_type": "execute_result"
    }
   ],
   "source": [
    "df.CR_checklist.value_counts()"
   ]
  },
  {
   "cell_type": "code",
   "execution_count": 32,
   "outputs": [
    {
     "name": "stdout",
     "output_type": "stream",
     "text": [
      "3\n",
      "184\n",
      "Yes (Please provide a link to it in the text box below):    101\n",
      "Not aware of it.                                             47\n",
      "No.                                                          36\n",
      "Name: CR_checklist, dtype: int64\n",
      "-----\n",
      "3\n",
      "281\n",
      "Yes (Please provide a link to it in the text box below):    133\n",
      "No.                                                         131\n",
      "Not aware of it.                                             17\n",
      "Name: CR_checklist, dtype: int64\n"
     ]
    }
   ],
   "source": [
    "print(df[contributors]['CR_checklist'].isna().sum())\n",
    "print(count_contributors - df[contributors]['CR_checklist'].isna().sum())\n",
    "print(df[contributors].CR_checklist.value_counts())\n",
    "print('-----')\n",
    "print(df[maintainers]['CR_checklist'].isna().sum())\n",
    "print(count_maintainers - df[maintainers]['CR_checklist'].isna().sum())\n",
    "print(df[maintainers].CR_checklist.value_counts())"
   ],
   "metadata": {
    "collapsed": false,
    "ExecuteTime": {
     "start_time": "2023-06-29T17:18:44.563469Z",
     "end_time": "2023-06-29T17:18:44.568557Z"
    }
   }
  },
  {
   "cell_type": "code",
   "execution_count": 33,
   "metadata": {
    "ExecuteTime": {
     "start_time": "2023-04-17T10:29:28.280834Z",
     "end_time": "2023-04-17T10:29:28.335904Z"
    }
   },
   "outputs": [
    {
     "data": {
      "text/plain": "<Figure size 432x288 with 1 Axes>",
      "image/png": "[encoded data removed]"
     },
     "metadata": {},
     "output_type": "display_data"
    },
    {
     "name": "stdout",
     "output_type": "stream",
     "text": [
      "Number of not-answered: 6\n",
      "Number of answered: 465\n"
     ]
    }
   ],
   "source": [
    "cr_checklist = ['Yes', 'No', 'Not aware of it']\n",
    "counts = [df.CR_checklist.value_counts()[0], df.CR_checklist.value_counts()['No.'], df.CR_checklist.value_counts()['Not aware of it.']]\n",
    "fig, ax = plt.subplots()\n",
    "ax.bar(cr_checklist, counts)\n",
    "ax.set_ylabel('Count')\n",
    "ax.set_title('Is there a checklist/guideline when contributing/reviewing a change?')\n",
    "# plt.xticks(rotation=30, ha='right')\n",
    "plt.show()\n",
    "\n",
    "print(\"Number of not-answered:\", df.CR_checklist.isna().sum())\n",
    "print(\"Number of answered:\", df.shape[0] - df.CR_checklist.isna().sum())"
   ]
  },
  {
   "cell_type": "code",
   "execution_count": 34,
   "metadata": {
    "ExecuteTime": {
     "start_time": "2023-04-17T10:29:28.480335Z",
     "end_time": "2023-04-17T10:29:28.493442Z"
    }
   },
   "outputs": [
    {
     "name": "stdout",
     "output_type": "stream",
     "text": [
      "Yes: \n",
      "54.01069518716577\n",
      "46.83098591549296\n",
      "No: \n",
      "19.25133689839572\n",
      "46.12676056338028\n",
      "Not aware: \n",
      "25.13368983957219\n",
      "5.985915492957746\n"
     ]
    }
   ],
   "source": [
    "print('Yes: ')\n",
    "print(df[contributors].CR_checklist.value_counts()[0] * 100 / count_contributors)\n",
    "print(df[maintainers].CR_checklist.value_counts()[0] * 100 / count_maintainers)\n",
    "\n",
    "print('No: ')\n",
    "print(df[contributors].CR_checklist.value_counts()['No.'] * 100 / count_contributors)\n",
    "print(df[maintainers].CR_checklist.value_counts()['No.'] * 100 / count_maintainers)\n",
    "\n",
    "print('Not aware: ')\n",
    "print(df[contributors].CR_checklist.value_counts()['Not aware of it.'] * 100 / count_contributors)\n",
    "print(df[maintainers].CR_checklist.value_counts()['Not aware of it.'] * 100 / count_maintainers)"
   ]
  },
  {
   "cell_type": "code",
   "execution_count": 35,
   "metadata": {
    "ExecuteTime": {
     "start_time": "2023-04-17T10:29:28.614701Z",
     "end_time": "2023-04-17T10:29:28.619359Z"
    }
   },
   "outputs": [
    {
     "name": "stdout",
     "output_type": "stream",
     "text": [
      "50.32258064516129\n",
      "35.913978494623656\n",
      "13.763440860215054\n"
     ]
    }
   ],
   "source": [
    "print(df.CR_checklist.value_counts()[0] * 100 / 465)\n",
    "print(df.CR_checklist.value_counts()['No.'] * 100 / 465)\n",
    "print(df.CR_checklist.value_counts()['Not aware of it.'] * 100 / 465)"
   ]
  },
  {
   "cell_type": "code",
   "execution_count": 36,
   "metadata": {
    "ExecuteTime": {
     "start_time": "2023-04-17T10:29:28.820145Z",
     "end_time": "2023-04-17T10:29:28.857909Z"
    }
   },
   "outputs": [],
   "source": [
    "df[~df['CR_checklist_location'].isna()][['CR_checklist_location']].to_csv(\"manual_data_inspection/PR_checklist_location.csv\")"
   ]
  },
  {
   "cell_type": "code",
   "execution_count": 37,
   "metadata": {
    "ExecuteTime": {
     "start_time": "2023-04-17T10:29:28.995466Z",
     "end_time": "2023-04-17T10:29:29.002207Z"
    }
   },
   "outputs": [
    {
     "name": "stderr",
     "output_type": "stream",
     "text": [
      "/Users/alikhatami/opt/anaconda3/lib/python3.8/site-packages/pandas/core/indexing.py:1765: SettingWithCopyWarning: \n",
      "A value is trying to be set on a copy of a slice from a DataFrame.\n",
      "Try using .loc[row_indexer,col_indexer] = value instead\n",
      "\n",
      "See the caveats in the documentation: https://pandas.pydata.org/pandas-docs/stable/user_guide/indexing.html#returning-a-view-versus-a-copy\n",
      "  isetter(loc, value)\n"
     ]
    },
    {
     "data": {
      "text/plain": "Yes                     322\nNo.                      80\nI'm not aware of it.     65\nName: PR_checks, dtype: int64"
     },
     "execution_count": 37,
     "metadata": {},
     "output_type": "execute_result"
    }
   ],
   "source": [
    "df.loc[df.PR_checks == '1', 'PR_checks'] = None\n",
    "df.PR_checks.value_counts()"
   ]
  },
  {
   "cell_type": "code",
   "execution_count": 38,
   "metadata": {
    "ExecuteTime": {
     "start_time": "2023-04-17T10:29:29.201341Z",
     "end_time": "2023-04-17T10:29:29.259663Z"
    }
   },
   "outputs": [
    {
     "data": {
      "text/plain": "<Figure size 432x288 with 1 Axes>",
      "image/png": "[encoded data removed]"
     },
     "metadata": {},
     "output_type": "display_data"
    },
    {
     "name": "stdout",
     "output_type": "stream",
     "text": [
      "Number of not-answered: 4\n",
      "Number of answered: 467\n"
     ]
    }
   ],
   "source": [
    "cr_checklist = ['Yes', 'No.', \"I'm not aware of it.\"]\n",
    "counts = [df.PR_checks.value_counts()['Yes'], df.PR_checks.value_counts()['No.'], df.PR_checks.value_counts()[\"I'm not aware of it.\"]]\n",
    "fig, ax = plt.subplots()\n",
    "ax.bar(cr_checklist, counts)\n",
    "ax.set_ylabel('Count')\n",
    "ax.set_title(\"Does the project use GitHub's Checks in pull requests?\")\n",
    "# plt.xticks(rotation=30, ha='right')\n",
    "plt.show()\n",
    "\n",
    "print(\"Number of not-answered:\", df.PR_checks.isna().sum())\n",
    "print(\"Number of answered:\", df.shape[0] - df.PR_checks.isna().sum())"
   ]
  },
  {
   "cell_type": "code",
   "execution_count": 39,
   "metadata": {
    "ExecuteTime": {
     "start_time": "2023-04-17T10:29:29.345814Z",
     "end_time": "2023-04-17T10:29:29.351685Z"
    }
   },
   "outputs": [
    {
     "name": "stdout",
     "output_type": "stream",
     "text": [
      "Yes: \n",
      "67.37967914438502\n",
      "69.01408450704226\n",
      "No: \n",
      "12.29946524064171\n",
      "20.070422535211268\n",
      "Not aware: \n",
      "19.78609625668449\n",
      "9.859154929577464\n"
     ]
    }
   ],
   "source": [
    "print('Yes: ')\n",
    "print(df[contributors].PR_checks.value_counts()['Yes'] * 100 / count_contributors)\n",
    "print(df[maintainers].PR_checks.value_counts()['Yes'] * 100 / count_maintainers)\n",
    "\n",
    "print('No: ')\n",
    "print(df[contributors].PR_checks.value_counts()['No.'] * 100 / count_contributors)\n",
    "print(df[maintainers].PR_checks.value_counts()['No.'] * 100 / count_maintainers)\n",
    "\n",
    "print('Not aware: ')\n",
    "print(df[contributors].PR_checks.value_counts()[\"I'm not aware of it.\"] * 100 / count_contributors)\n",
    "print(df[maintainers].PR_checks.value_counts()[\"I'm not aware of it.\"] * 100 / count_maintainers)"
   ]
  },
  {
   "cell_type": "code",
   "execution_count": 40,
   "metadata": {
    "ExecuteTime": {
     "start_time": "2023-04-17T10:29:29.538332Z",
     "end_time": "2023-04-17T10:29:29.541935Z"
    }
   },
   "outputs": [
    {
     "name": "stdout",
     "output_type": "stream",
     "text": [
      "68.95074946466809\n",
      "17.130620985010708\n",
      "13.9186295503212\n"
     ]
    }
   ],
   "source": [
    "print(df.PR_checks.value_counts()['Yes'] * 100 / 467)\n",
    "print(df.PR_checks.value_counts()['No.'] * 100 / 467)\n",
    "print(df.PR_checks.value_counts()[\"I'm not aware of it.\"] * 100 / 467)"
   ]
  },
  {
   "cell_type": "code",
   "execution_count": 41,
   "outputs": [
    {
     "name": "stdout",
     "output_type": "stream",
     "text": [
      "1\n",
      "186\n",
      "Yes                     126\n",
      "I'm not aware of it.     37\n",
      "No.                      23\n",
      "Name: PR_checks, dtype: int64\n",
      "-----\n",
      "3\n",
      "281\n",
      "Yes                     196\n",
      "No.                      57\n",
      "I'm not aware of it.     28\n",
      "Name: PR_checks, dtype: int64\n"
     ]
    }
   ],
   "source": [
    "print(df[contributors]['PR_checks'].isna().sum())\n",
    "print(count_contributors - df[contributors]['PR_checks'].isna().sum())\n",
    "print(df[contributors].PR_checks.value_counts())\n",
    "print('-----')\n",
    "print(df[maintainers]['PR_checks'].isna().sum())\n",
    "print(count_maintainers - df[maintainers]['PR_checks'].isna().sum())\n",
    "print(df[maintainers].PR_checks.value_counts())"
   ],
   "metadata": {
    "collapsed": false,
    "ExecuteTime": {
     "start_time": "2023-06-29T17:24:39.784607Z",
     "end_time": "2023-06-29T17:24:39.810574Z"
    }
   }
  },
  {
   "cell_type": "code",
   "execution_count": 42,
   "metadata": {
    "ExecuteTime": {
     "start_time": "2023-06-28T12:48:12.067951Z",
     "end_time": "2023-06-28T12:48:12.075183Z"
    }
   },
   "outputs": [
    {
     "name": "stderr",
     "output_type": "stream",
     "text": [
      "<ipython-input-42-9123a7325229>:1: SettingWithCopyWarning: \n",
      "A value is trying to be set on a copy of a slice from a DataFrame.\n",
      "Try using .loc[row_indexer,col_indexer] = value instead\n",
      "\n",
      "See the caveats in the documentation: https://pandas.pydata.org/pandas-docs/stable/user_guide/indexing.html#returning-a-view-versus-a-copy\n",
      "  df['PR_checks_type_quality'] = df['PR_checks_type'].apply(lambda x: True if 'quality' in str(x) else False)\n",
      "<ipython-input-42-9123a7325229>:2: SettingWithCopyWarning: \n",
      "A value is trying to be set on a copy of a slice from a DataFrame.\n",
      "Try using .loc[row_indexer,col_indexer] = value instead\n",
      "\n",
      "See the caveats in the documentation: https://pandas.pydata.org/pandas-docs/stable/user_guide/indexing.html#returning-a-view-versus-a-copy\n",
      "  df['PR_checks_type_coverage'] = df['PR_checks_type'].apply(lambda x: True if 'coverage' in str(x) else False)\n",
      "<ipython-input-42-9123a7325229>:3: SettingWithCopyWarning: \n",
      "A value is trying to be set on a copy of a slice from a DataFrame.\n",
      "Try using .loc[row_indexer,col_indexer] = value instead\n",
      "\n",
      "See the caveats in the documentation: https://pandas.pydata.org/pandas-docs/stable/user_guide/indexing.html#returning-a-view-versus-a-copy\n",
      "  df['PR_checks_type_build'] = df['PR_checks_type'].apply(lambda x: True if 'Build' in str(x) else False)\n",
      "<ipython-input-42-9123a7325229>:4: SettingWithCopyWarning: \n",
      "A value is trying to be set on a copy of a slice from a DataFrame.\n",
      "Try using .loc[row_indexer,col_indexer] = value instead\n",
      "\n",
      "See the caveats in the documentation: https://pandas.pydata.org/pandas-docs/stable/user_guide/indexing.html#returning-a-view-versus-a-copy\n",
      "  df['PR_checks_type_test'] = df['PR_checks_type'].apply(lambda x: True if 'Test' in str(x) else False)\n",
      "<ipython-input-42-9123a7325229>:5: SettingWithCopyWarning: \n",
      "A value is trying to be set on a copy of a slice from a DataFrame.\n",
      "Try using .loc[row_indexer,col_indexer] = value instead\n",
      "\n",
      "See the caveats in the documentation: https://pandas.pydata.org/pandas-docs/stable/user_guide/indexing.html#returning-a-view-versus-a-copy\n",
      "  df['PR_checks_type_other_choice'] = df['PR_checks_type'].apply(lambda x: True if 'Other' in str(x) else False)\n"
     ]
    }
   ],
   "source": [
    "df['PR_checks_type_quality'] = df['PR_checks_type'].apply(lambda x: True if 'quality' in str(x) else False)\n",
    "df['PR_checks_type_coverage'] = df['PR_checks_type'].apply(lambda x: True if 'coverage' in str(x) else False)\n",
    "df['PR_checks_type_build'] = df['PR_checks_type'].apply(lambda x: True if 'Build' in str(x) else False)\n",
    "df['PR_checks_type_test'] = df['PR_checks_type'].apply(lambda x: True if 'Test' in str(x) else False)\n",
    "df['PR_checks_type_other_choice'] = df['PR_checks_type'].apply(lambda x: True if 'Other' in str(x) else False)"
   ]
  },
  {
   "cell_type": "code",
   "execution_count": 43,
   "metadata": {
    "ExecuteTime": {
     "start_time": "2023-06-28T12:48:17.100426Z",
     "end_time": "2023-06-28T12:48:17.112513Z"
    }
   },
   "outputs": [
    {
     "name": "stdout",
     "output_type": "stream",
     "text": [
      "0.39400428265524623\n",
      "0.2334047109207709\n",
      "0.550321199143469\n",
      "0.5781584582441114\n",
      "0.047109207708779445\n"
     ]
    }
   ],
   "source": [
    "print(df['PR_checks_type_quality'].sum() / 467)\n",
    "print(df['PR_checks_type_coverage'].sum() / 467)\n",
    "print(df['PR_checks_type_build'].sum() / 467)\n",
    "print(df['PR_checks_type_test'].sum() / 467)\n",
    "print(df['PR_checks_type_other_choice'].sum() / 467)"
   ]
  },
  {
   "cell_type": "code",
   "execution_count": 44,
   "metadata": {
    "ExecuteTime": {
     "start_time": "2023-06-28T12:48:21.671011Z",
     "end_time": "2023-06-28T12:48:21.684147Z"
    }
   },
   "outputs": [
    {
     "data": {
      "text/plain": "Code quality warnings,Build checks,Test results                                                                       75\nCode quality warnings,Code coverage reports,Build checks,Test results                                                 60\nBuild checks,Test results                                                                                             57\nCode coverage reports,Build checks,Test results                                                                       19\nBuild checks                                                                                                          18\nTest results                                                                                                          15\nCode quality warnings,Test results                                                                                    15\nCode coverage reports,Test results                                                                                     9\nCode quality warnings,Build checks                                                                                     8\nCode quality warnings,Build checks,Test results,Other (Please specify in the text box below)                           6\nCode quality warnings,Code coverage reports,Build checks                                                               5\nCode quality warnings,Code coverage reports,Test results                                                               5\nBuild checks,Test results,Other (Please specify in the text box below)                                                 4\nCode quality warnings                                                                                                  4\nCode coverage reports                                                                                                  4\nOther (Please specify in the text box below)                                                                           3\nBuild checks,Other (Please specify in the text box below)                                                              2\nCode quality warnings,Code coverage reports,Test results,Other (Please specify in the text box below)                  2\nCode quality warnings,Code coverage reports,Build checks,Test results,Other (Please specify in the text box below)     1\nCode quality warnings,Code coverage reports                                                                            1\nTest results,Other (Please specify in the text box below)                                                              1\nCode quality warnings,Other (Please specify in the text box below)                                                     1\nCode coverage reports,Build checks,Test results,Other (Please specify in the text box below)                           1\nCode coverage reports,Build checks                                                                                     1\nCode quality warnings,Code coverage reports,Other (Please specify in the text box below)                               1\nName: PR_checks_type, dtype: int64"
     },
     "execution_count": 44,
     "metadata": {},
     "output_type": "execute_result"
    }
   ],
   "source": [
    "df['PR_checks_type'].value_counts()"
   ]
  },
  {
   "cell_type": "code",
   "execution_count": 45,
   "metadata": {
    "ExecuteTime": {
     "start_time": "2023-06-28T12:48:24.818355Z",
     "end_time": "2023-06-28T12:48:24.912668Z"
    }
   },
   "outputs": [
    {
     "data": {
      "text/plain": "<Figure size 432x288 with 1 Axes>",
      "image/png": "[encoded data removed]"
     },
     "metadata": {},
     "output_type": "display_data"
    },
    {
     "name": "stdout",
     "output_type": "stream",
     "text": [
      "Number of not-answered: 153\n",
      "Number of answered: 318\n"
     ]
    }
   ],
   "source": [
    "cr_checklist = ['Code quality warnings', 'Code coverage reports', 'Build checks', 'Test results', 'Other']\n",
    "counts = [df['PR_checks_type_quality'].sum(), df['PR_checks_type_coverage'].sum(), df['PR_checks_type_build'].sum(), df['PR_checks_type_test'].sum(), df['PR_checks_type_other_choice'].sum()]\n",
    "fig, ax = plt.subplots()\n",
    "ax.bar(cr_checklist, counts)\n",
    "ax.set_ylabel('Count')\n",
    "ax.set_title(\"What kind of reports you get from GitHub's Checks comments on your pull request?\")\n",
    "plt.xticks(rotation=30, ha='right')\n",
    "plt.show()\n",
    "\n",
    "print(\"Number of not-answered:\", df.PR_checks_type.isna().sum())\n",
    "print(\"Number of answered:\", df.shape[0] - df.PR_checks_type.isna().sum())"
   ]
  },
  {
   "cell_type": "code",
   "execution_count": 46,
   "outputs": [
    {
     "name": "stdout",
     "output_type": "stream",
     "text": [
      "62\n",
      "125\n",
      "-----\n",
      "91\n",
      "193\n"
     ]
    }
   ],
   "source": [
    "print(df[contributors]['PR_checks_type'].isna().sum())\n",
    "print(count_contributors - df[contributors]['PR_checks_type'].isna().sum())\n",
    "# print(df[contributors].PR_checks_type.value_counts())\n",
    "print('-----')\n",
    "print(df[maintainers]['PR_checks_type'].isna().sum())\n",
    "print(count_maintainers - df[maintainers]['PR_checks_type'].isna().sum())\n",
    "# print(df[maintainers].PR_checks_type.value_counts())"
   ],
   "metadata": {
    "collapsed": false,
    "ExecuteTime": {
     "start_time": "2023-06-29T17:28:44.547842Z",
     "end_time": "2023-06-29T17:28:44.579607Z"
    }
   }
  },
  {
   "cell_type": "code",
   "execution_count": 47,
   "metadata": {
    "ExecuteTime": {
     "start_time": "2023-04-17T10:29:30.501199Z",
     "end_time": "2023-04-17T10:29:30.510169Z"
    }
   },
   "outputs": [],
   "source": [
    "df[~df[\"PR_checks_type_other\"].isna()][['PR_checks_type_other']].to_csv(\"manual_data_inspection/PR_checks_type_other.csv\")"
   ]
  },
  {
   "cell_type": "code",
   "execution_count": 48,
   "metadata": {
    "ExecuteTime": {
     "start_time": "2023-04-17T10:29:30.711180Z",
     "end_time": "2023-04-17T10:29:30.716920Z"
    }
   },
   "outputs": [],
   "source": [
    "df[~df[\"how_CR_helps\"].isna()][['how_CR_helps']].to_csv(\"manual_data_inspection/how_CR_helps.csv\")"
   ]
  },
  {
   "cell_type": "code",
   "execution_count": 49,
   "outputs": [
    {
     "name": "stdout",
     "output_type": "stream",
     "text": [
      "66\n",
      "121\n",
      "-----\n",
      "108\n",
      "176\n"
     ]
    }
   ],
   "source": [
    "print(df[contributors]['how_CR_helps'].isna().sum())\n",
    "print(count_contributors - df[contributors]['how_CR_helps'].isna().sum())\n",
    "# print(df[contributors].PR_checks_type.value_counts())\n",
    "print('-----')\n",
    "print(df[maintainers]['how_CR_helps'].isna().sum())\n",
    "print(count_maintainers - df[maintainers]['how_CR_helps'].isna().sum())\n",
    "# print(df[maintainers].PR_checks_type.value_counts())"
   ],
   "metadata": {
    "collapsed": false,
    "ExecuteTime": {
     "start_time": "2023-06-29T17:31:44.949766Z",
     "end_time": "2023-06-29T17:31:44.956077Z"
    }
   }
  },
  {
   "cell_type": "code",
   "execution_count": 50,
   "outputs": [
    {
     "name": "stdout",
     "output_type": "stream",
     "text": [
      "7\n",
      "23\n",
      "---\n"
     ]
    }
   ],
   "source": [
    "data = pd.read_excel('manual_data_inspection/how_CR_helps_coding.xlsx')\n",
    "invalid_indexes = data[data['invalid'] == 1]['Column1'].astype(int).tolist()\n",
    "# zero_indexes = data[data['no'] == 1]['Column1'].astype(int).tolist()\n",
    "# donno_indexes = data[data[\"idk - unsure\"] == 1]['Column1'].astype(int).tolist()\n",
    "print(df[df.index.isin(invalid_indexes) & (contributors)].shape[0])\n",
    "print(df[df.index.isin(invalid_indexes) & (maintainers)].shape[0])\n",
    "print('---')\n",
    "# print(df[df.index.isin(zero_indexes) & (contributors)].shape[0])\n",
    "# print(df[df.index.isin(zero_indexes) & (maintainers)].shape[0])\n",
    "# print('---')\n",
    "# print(df[df.index.isin(donno_indexes) & (contributors)].shape[0])\n",
    "# print(df[df.index.isin(donno_indexes) & (maintainers)].shape[0])"
   ],
   "metadata": {
    "collapsed": false,
    "ExecuteTime": {
     "start_time": "2023-06-30T16:56:31.957980Z",
     "end_time": "2023-06-30T16:56:32.029016Z"
    }
   }
  },
  {
   "cell_type": "code",
   "execution_count": 51,
   "metadata": {
    "ExecuteTime": {
     "start_time": "2023-04-17T10:29:30.924295Z",
     "end_time": "2023-04-17T10:29:30.970337Z"
    }
   },
   "outputs": [
    {
     "name": "stdout",
     "output_type": "stream",
     "text": [
      "Number of not-answered: 174\n",
      "Number of answered: 297\n"
     ]
    }
   ],
   "source": [
    "print(\"Number of not-answered:\", df.how_CR_helps.isna().sum())\n",
    "print(\"Number of answered:\", df.shape[0] - df.how_CR_helps.isna().sum())"
   ]
  },
  {
   "cell_type": "code",
   "execution_count": 52,
   "metadata": {
    "ExecuteTime": {
     "start_time": "2023-04-17T10:29:31.415171Z",
     "end_time": "2023-04-17T10:29:31.420136Z"
    }
   },
   "outputs": [
    {
     "name": "stdout",
     "output_type": "stream",
     "text": [
      "Number of contributors not-answered: 66\n",
      "Percentage of contributors not-answered: 35.294117647058826\n",
      "Number of maintainers not-answered: 108\n",
      "Percentage of maintainers not-answered: 38.028169014084504\n"
     ]
    }
   ],
   "source": [
    "print(\"Number of contributors not-answered:\", df[contributors].how_CR_helps.isna().sum())\n",
    "print(\"Percentage of contributors not-answered:\", df[contributors].how_CR_helps.isna().sum() * 100 / count_contributors)\n",
    "print(\"Number of maintainers not-answered:\", df[maintainers].how_CR_helps.isna().sum())\n",
    "print(\"Percentage of maintainers not-answered:\", df[maintainers].how_CR_helps.isna().sum() * 100 / count_maintainers)"
   ]
  }
 ],
 "metadata": {
  "kernelspec": {
   "display_name": "gh-quality-analytics",
   "language": "python",
   "name": "python3"
  },
  "language_info": {
   "codemirror_mode": {
    "name": "ipython",
    "version": 3
   },
   "file_extension": ".py",
   "mimetype": "text/x-python",
   "name": "python",
   "nbconvert_exporter": "python",
   "pygments_lexer": "ipython3",
   "version": "3.9.5"
  },
  "orig_nbformat": 4,
  "vscode": {
   "interpreter": {
    "hash": "12eb295cf43f82202ea6ac16e67a9b544410e5b1ffafea6f922e2d331ae86556"
   }
  }
 },
 "nbformat": 4,
 "nbformat_minor": 2
}
