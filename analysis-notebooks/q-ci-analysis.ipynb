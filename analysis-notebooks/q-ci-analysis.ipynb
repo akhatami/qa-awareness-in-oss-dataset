{
 "cells": [
  {
   "cell_type": "code",
   "execution_count": 1,
   "metadata": {
    "collapsed": true,
    "ExecuteTime": {
     "start_time": "2023-07-06T00:11:42.991834Z",
     "end_time": "2023-07-06T00:11:42.993577Z"
    }
   },
   "outputs": [],
   "source": [
    "import pandas as pd\n",
    "import matplotlib.pyplot as plt"
   ]
  },
  {
   "cell_type": "code",
   "execution_count": 2,
   "outputs": [],
   "source": [
    "df_all = pd.read_csv(\"data/answers_clean_complete.csv\")\n",
    "df_all = df_all.drop('Unnamed: 0', axis=1)\n",
    "df_all = df_all.iloc[2:].reset_index(drop=True)\n"
   ],
   "metadata": {
    "collapsed": false,
    "ExecuteTime": {
     "start_time": "2023-07-06T00:11:43.547473Z",
     "end_time": "2023-07-06T00:11:43.574163Z"
    }
   }
  },
  {
   "cell_type": "code",
   "execution_count": 3,
   "outputs": [],
   "source": [
    "df = df_all[['role', 'gha_or_apps', 'gha_type', 'which_app', 'CI_workflows',\n",
    "             'CI_configuration', 'CI_when_how_check', 'CI_situation']]"
   ],
   "metadata": {
    "collapsed": false,
    "ExecuteTime": {
     "start_time": "2023-07-06T00:11:46.405007Z",
     "end_time": "2023-07-06T00:11:46.411221Z"
    }
   }
  },
  {
   "cell_type": "code",
   "execution_count": 4,
   "outputs": [],
   "source": [
    "count_all = df.shape[0]\n",
    "contributors = df['role'] == 'Source code contributor'\n",
    "maintainers = df['role'] != 'Source code contributor'\n",
    "count_contributors = df[contributors].shape[0]\n",
    "count_maintainers = df[maintainers].shape[0]"
   ],
   "metadata": {
    "collapsed": false,
    "ExecuteTime": {
     "start_time": "2023-07-06T00:11:46.625642Z",
     "end_time": "2023-07-06T00:11:46.635562Z"
    }
   }
  },
  {
   "cell_type": "code",
   "execution_count": 5,
   "outputs": [
    {
     "data": {
      "text/plain": "Yes, only GitHub Actions.    266\nYes, both.                    81\nNo.                           74\nI don't know.                 40\nYes, only GitHub Apps.         9\nName: gha_or_apps, dtype: int64"
     },
     "execution_count": 5,
     "metadata": {},
     "output_type": "execute_result"
    }
   ],
   "source": [
    "df['gha_or_apps'].value_counts()"
   ],
   "metadata": {
    "collapsed": false,
    "ExecuteTime": {
     "start_time": "2023-07-06T00:11:46.902015Z",
     "end_time": "2023-07-06T00:11:46.907596Z"
    }
   }
  },
  {
   "cell_type": "code",
   "execution_count": 6,
   "outputs": [
    {
     "name": "stdout",
     "output_type": "stream",
     "text": [
      "0\n",
      "187\n",
      "Yes, only GitHub Actions.    98\n",
      "I don't know.                33\n",
      "No.                          29\n",
      "Yes, both.                   22\n",
      "Yes, only GitHub Apps.        5\n",
      "Name: gha_or_apps, dtype: int64\n",
      "-----\n",
      "1\n",
      "283\n",
      "Yes, only GitHub Actions.    168\n",
      "Yes, both.                    59\n",
      "No.                           45\n",
      "I don't know.                  7\n",
      "Yes, only GitHub Apps.         4\n",
      "Name: gha_or_apps, dtype: int64\n"
     ]
    }
   ],
   "source": [
    "print(df[contributors]['gha_or_apps'].isna().sum())\n",
    "print(count_contributors - df[contributors]['gha_or_apps'].isna().sum())\n",
    "print(df[contributors].gha_or_apps.value_counts())\n",
    "print('-----')\n",
    "print(df[maintainers]['gha_or_apps'].isna().sum())\n",
    "print(count_maintainers - df[maintainers]['gha_or_apps'].isna().sum())\n",
    "print(df[maintainers].gha_or_apps.value_counts())"
   ],
   "metadata": {
    "collapsed": false,
    "ExecuteTime": {
     "start_time": "2023-07-06T00:11:47.445957Z",
     "end_time": "2023-07-06T00:11:47.452679Z"
    }
   }
  },
  {
   "cell_type": "code",
   "execution_count": 7,
   "outputs": [
    {
     "data": {
      "text/plain": "<Figure size 432x288 with 1 Axes>",
      "image/png": "[encoded data removed]"
     },
     "metadata": {},
     "output_type": "display_data"
    },
    {
     "name": "stdout",
     "output_type": "stream",
     "text": [
      "Number of not-answered: 1\n",
      "Number of answered: 470\n"
     ]
    }
   ],
   "source": [
    "gha_or_apps_count = ['Yes, both.', 'Yes, only GitHub Actions.', \"Yes, only GitHub Apps.\", \"I don't know.\", \"No.\"]\n",
    "counts = [df.gha_or_apps.value_counts()['Yes, both.'], df.gha_or_apps.value_counts()['Yes, only GitHub Actions.'], df.gha_or_apps.value_counts()['Yes, only GitHub Apps.'], df.gha_or_apps.value_counts()[\"I don't know.\"], df.gha_or_apps.value_counts()[\"No.\"]]\n",
    "fig, ax = plt.subplots()\n",
    "ax.bar(gha_or_apps_count, counts)\n",
    "ax.set_ylabel('Count')\n",
    "ax.set_title('Do you use GH Actions and/or GH Apps in the project?')\n",
    "plt.xticks(rotation=30, ha='right')\n",
    "plt.show()\n",
    "\n",
    "print(\"Number of not-answered:\", df.gha_or_apps.isna().sum())\n",
    "print(\"Number of answered:\", df.shape[0] - df.gha_or_apps.isna().sum())"
   ],
   "metadata": {
    "collapsed": false,
    "ExecuteTime": {
     "start_time": "2023-07-06T00:11:48.011687Z",
     "end_time": "2023-07-06T00:11:48.125309Z"
    }
   }
  },
  {
   "cell_type": "code",
   "execution_count": 8,
   "outputs": [
    {
     "name": "stdout",
     "output_type": "stream",
     "text": [
      "17.23404255319149\n",
      "56.59574468085106\n",
      "1.9148936170212767\n",
      "8.51063829787234\n",
      "15.74468085106383\n"
     ]
    }
   ],
   "source": [
    "print(df.gha_or_apps.value_counts()['Yes, both.'] * 100 / 470)\n",
    "print(df.gha_or_apps.value_counts()['Yes, only GitHub Actions.'] * 100 / 470)\n",
    "print(df.gha_or_apps.value_counts()['Yes, only GitHub Apps.'] * 100 / 470)\n",
    "print(df.gha_or_apps.value_counts()[\"I don't know.\"] * 100 / 470)\n",
    "print(df.gha_or_apps.value_counts()[\"No.\"] * 100 / 470)"
   ],
   "metadata": {
    "collapsed": false,
    "ExecuteTime": {
     "start_time": "2023-07-06T00:11:48.796524Z",
     "end_time": "2023-07-06T00:11:48.817549Z"
    }
   }
  },
  {
   "cell_type": "code",
   "execution_count": 9,
   "outputs": [
    {
     "name": "stdout",
     "output_type": "stream",
     "text": [
      "Yes, both.\n",
      "11.764705882352942\n",
      "20.774647887323944\n",
      "Yes, only GitHub Actions.\n",
      "52.406417112299465\n",
      "59.15492957746479\n",
      "Yes, only GitHub Apps.\n",
      "2.6737967914438503\n",
      "1.408450704225352\n",
      "I don't know.\n",
      "17.647058823529413\n",
      "2.464788732394366\n",
      "No.\n",
      "15.508021390374331\n",
      "15.845070422535212\n"
     ]
    }
   ],
   "source": [
    "print('Yes, both.')\n",
    "print(df[contributors].gha_or_apps.value_counts()['Yes, both.'] * 100 / count_contributors)\n",
    "print(df[maintainers].gha_or_apps.value_counts()['Yes, both.'] * 100 / count_maintainers)\n",
    "\n",
    "print('Yes, only GitHub Actions.')\n",
    "print(df[contributors].gha_or_apps.value_counts()['Yes, only GitHub Actions.'] * 100 / count_contributors)\n",
    "print(df[maintainers].gha_or_apps.value_counts()['Yes, only GitHub Actions.'] * 100 / count_maintainers)\n",
    "\n",
    "print('Yes, only GitHub Apps.')\n",
    "print(df[contributors].gha_or_apps.value_counts()['Yes, only GitHub Apps.'] * 100 / count_contributors)\n",
    "print(df[maintainers].gha_or_apps.value_counts()['Yes, only GitHub Apps.'] * 100 / count_maintainers)\n",
    "\n",
    "print(\"I don't know.\")\n",
    "print(df[contributors].gha_or_apps.value_counts()[\"I don't know.\"] * 100 / count_contributors)\n",
    "print(df[maintainers].gha_or_apps.value_counts()[\"I don't know.\"] * 100 / count_maintainers)\n",
    "\n",
    "print('No.')\n",
    "print(df[contributors].gha_or_apps.value_counts()[\"No.\"] * 100 / count_contributors)\n",
    "print(df[maintainers].gha_or_apps.value_counts()[\"No.\"] * 100 / count_maintainers)"
   ],
   "metadata": {
    "collapsed": false,
    "ExecuteTime": {
     "start_time": "2023-07-06T00:11:49.481074Z",
     "end_time": "2023-07-06T00:11:49.510332Z"
    }
   }
  },
  {
   "cell_type": "code",
   "execution_count": 10,
   "outputs": [],
   "source": [
    "df[~df['gha_type'].isna()][['gha_type']].to_csv(\"manual_data_inspection/gha_type.csv\")"
   ],
   "metadata": {
    "collapsed": false,
    "ExecuteTime": {
     "start_time": "2023-07-06T00:11:50.031388Z",
     "end_time": "2023-07-06T00:11:50.040858Z"
    }
   }
  },
  {
   "cell_type": "code",
   "execution_count": 11,
   "outputs": [
    {
     "name": "stdout",
     "output_type": "stream",
     "text": [
      "98\n",
      "89\n",
      "-----\n",
      "97\n",
      "187\n"
     ]
    }
   ],
   "source": [
    "print(df[contributors]['gha_type'].isna().sum())\n",
    "print(count_contributors - df[contributors]['gha_type'].isna().sum())\n",
    "# print(df[contributors].gha_or_apps.value_counts())\n",
    "print('-----')\n",
    "print(df[maintainers]['gha_type'].isna().sum())\n",
    "print(count_maintainers - df[maintainers]['gha_type'].isna().sum())\n",
    "# print(df[maintainers].gha_or_apps.value_counts())"
   ],
   "metadata": {
    "collapsed": false,
    "ExecuteTime": {
     "start_time": "2023-07-06T00:11:50.949108Z",
     "end_time": "2023-07-06T00:11:50.954818Z"
    }
   }
  },
  {
   "cell_type": "code",
   "execution_count": 12,
   "outputs": [
    {
     "name": "stdout",
     "output_type": "stream",
     "text": [
      "276\n",
      "79.53890489913545\n"
     ]
    }
   ],
   "source": [
    "print(count_all - df['gha_type'].isna().sum())\n",
    "print((count_all - df['gha_type'].isna().sum()) * 100 / (df.gha_or_apps.value_counts()['Yes, both.'] + df.gha_or_apps.value_counts()['Yes, only GitHub Actions.']) )"
   ],
   "metadata": {
    "collapsed": false,
    "ExecuteTime": {
     "start_time": "2023-07-06T00:11:51.409632Z",
     "end_time": "2023-07-06T00:11:51.416296Z"
    }
   }
  },
  {
   "cell_type": "code",
   "execution_count": 13,
   "outputs": [
    {
     "name": "stdout",
     "output_type": "stream",
     "text": [
      "8\n",
      "16\n",
      "---\n",
      "---\n",
      "3\n",
      "4\n"
     ]
    }
   ],
   "source": [
    "data = pd.read_excel('manual_data_inspection/gha_type_coding.xlsx')\n",
    "invalid_indexes = data[data['invalid'] == 1]['Column1'].astype(int).tolist()\n",
    "# zero_indexes = data[data['zero'] == 1]['Column1'].astype(int).tolist()\n",
    "donno_indexes = data[data[\"not sure\"] == 1]['Column1'].astype(int).tolist()\n",
    "print(df[df.index.isin(invalid_indexes) & (contributors)].shape[0])\n",
    "print(df[df.index.isin(invalid_indexes) & (maintainers)].shape[0])\n",
    "print('---')\n",
    "# print(df[df.index.isin(zero_indexes) & (contributors)].shape[0])\n",
    "# print(df[df.index.isin(zero_indexes) & (maintainers)].shape[0])\n",
    "print('---')\n",
    "print(df[df.index.isin(donno_indexes) & (contributors)].shape[0])\n",
    "print(df[df.index.isin(donno_indexes) & (maintainers)].shape[0])"
   ],
   "metadata": {
    "collapsed": false,
    "ExecuteTime": {
     "start_time": "2023-07-06T00:11:52.313333Z",
     "end_time": "2023-07-06T00:11:52.369430Z"
    }
   }
  },
  {
   "cell_type": "code",
   "execution_count": 14,
   "outputs": [],
   "source": [
    "df[~df['which_app'].isna()][['which_app']].to_csv(\"manual_data_inspection/which_app.csv\")"
   ],
   "metadata": {
    "collapsed": false,
    "ExecuteTime": {
     "start_time": "2023-07-06T00:11:53.321353Z",
     "end_time": "2023-07-06T00:11:53.332750Z"
    }
   }
  },
  {
   "cell_type": "code",
   "execution_count": 15,
   "outputs": [
    {
     "name": "stdout",
     "output_type": "stream",
     "text": [
      "173\n",
      "14\n",
      "-----\n",
      "231\n",
      "53\n"
     ]
    }
   ],
   "source": [
    "print(df[contributors]['which_app'].isna().sum())\n",
    "print(count_contributors - df[contributors]['which_app'].isna().sum())\n",
    "# print(df[contributors].gha_or_apps.value_counts())\n",
    "print('-----')\n",
    "print(df[maintainers]['which_app'].isna().sum())\n",
    "print(count_maintainers - df[maintainers]['which_app'].isna().sum())\n",
    "# print(df[maintainers].gha_or_apps.value_counts())"
   ],
   "metadata": {
    "collapsed": false,
    "ExecuteTime": {
     "start_time": "2023-07-06T00:11:53.738937Z",
     "end_time": "2023-07-06T00:11:53.744846Z"
    }
   }
  },
  {
   "cell_type": "code",
   "execution_count": 16,
   "outputs": [
    {
     "name": "stdout",
     "output_type": "stream",
     "text": [
      "67\n",
      "14.225053078556263\n"
     ]
    }
   ],
   "source": [
    "print(count_all - df['which_app'].isna().sum())\n",
    "print((count_all - df['which_app'].isna().sum()) * 100 / 471)"
   ],
   "metadata": {
    "collapsed": false,
    "ExecuteTime": {
     "start_time": "2023-07-06T00:11:54.187204Z",
     "end_time": "2023-07-06T00:11:54.190517Z"
    }
   }
  },
  {
   "cell_type": "code",
   "execution_count": 17,
   "outputs": [
    {
     "name": "stdout",
     "output_type": "stream",
     "text": [
      "68\n",
      "Index(['Column1', 'which_app', 'invalid', 'notes', 'clean'], dtype='object')\n"
     ]
    }
   ],
   "source": [
    "df_which_app = pd.read_excel(\"manual_data_inspection/which_app_inspected.xlsx\")\n",
    "print(df_which_app.shape[0])\n",
    "print(df_which_app.columns)"
   ],
   "metadata": {
    "collapsed": false,
    "ExecuteTime": {
     "start_time": "2023-07-06T00:11:54.584220Z",
     "end_time": "2023-07-06T00:11:54.594124Z"
    }
   }
  },
  {
   "cell_type": "code",
   "execution_count": 18,
   "outputs": [
    {
     "name": "stdout",
     "output_type": "stream",
     "text": [
      "{'codecov': 19, 'renovate': 9, 'codeql': 5, 'clickhouse ci': 1, 'sonarcloud': 3, 'vercel': 3, 'appveyor': 3, 'travis ci': 4, 'nan': 11, 'azure pipelines': 3, 'cirrus ci': 1, 'lgtm': 1, 'dco': 3, 'lgtm.com': 1, 'slack': 4, 'azure devops': 1, 'circleci': 2, 'code climate': 1, 'imagebot': 1, 'cloudflare pages': 1, 'drone': 1, 'stalebot': 2, 'bors': 1, 'netlify': 2, 'changeeset': 1, 'meeseeksdev': 1, 'octobox': 1, 'pre-commit ci': 1, 'sonatype lift': 1, 'jira': 1, 'deepsource': 1, 'dependabot': 3, 'gitforwindowshelper': 1, 'custom': 1, 'codacy': 1, 'gitguardian': 1, 'vscodebot': 1, 'coveralls': 1, 'fossa': 1, 'runkit notebook': 1, 'stale': 2, 'changeset-bot': 1, 'moda-bot': 1, 'pullrequest': 1, 'sentry': 1, 'gitstream': 1, 'secureframe': 1, 'codescene': 1}\n"
     ]
    }
   ],
   "source": [
    "def update_dict_with_list_items(my_dict, my_list):\n",
    "    for item in my_list:\n",
    "        if item in my_dict:\n",
    "            my_dict[item] += 1\n",
    "        else:\n",
    "            my_dict[item] = 1\n",
    "    return my_dict\n",
    "\n",
    "codes = {}\n",
    "for i,x in df_which_app.iterrows():\n",
    "    codes = update_dict_with_list_items(codes, [s.strip().lower() for s in str(x['clean']).split(',')])\n",
    "\n",
    "print(codes)"
   ],
   "metadata": {
    "collapsed": false,
    "ExecuteTime": {
     "start_time": "2023-07-06T00:11:55.101303Z",
     "end_time": "2023-07-06T00:11:55.105159Z"
    }
   }
  },
  {
   "cell_type": "code",
   "execution_count": 19,
   "outputs": [
    {
     "name": "stdout",
     "output_type": "stream",
     "text": [
      "{'clickhouse ci': 1, 'cirrus ci': 1, 'lgtm': 1, 'lgtm.com': 1, 'azure devops': 1, 'code climate': 1, 'imagebot': 1, 'cloudflare pages': 1, 'drone': 1, 'bors': 1, 'changeeset': 1, 'meeseeksdev': 1, 'octobox': 1, 'pre-commit ci': 1, 'sonatype lift': 1, 'jira': 1, 'deepsource': 1, 'gitforwindowshelper': 1, 'custom': 1, 'codacy': 1, 'gitguardian': 1, 'vscodebot': 1, 'coveralls': 1, 'fossa': 1, 'runkit notebook': 1, 'changeset-bot': 1, 'moda-bot': 1, 'pullrequest': 1, 'sentry': 1, 'gitstream': 1, 'secureframe': 1, 'codescene': 1, 'circleci': 2, 'stalebot': 2, 'netlify': 2, 'stale': 2, 'sonarcloud': 3, 'vercel': 3, 'appveyor': 3, 'azure pipelines': 3, 'dco': 3, 'dependabot': 3, 'travis ci': 4, 'slack': 4, 'codeql': 5, 'renovate': 9, 'nan': 11, 'codecov': 19}\n"
     ]
    }
   ],
   "source": [
    "sorted_codes = dict(sorted(codes.items(), key=lambda x: x[1]))\n",
    "print(sorted_codes)"
   ],
   "metadata": {
    "collapsed": false,
    "ExecuteTime": {
     "start_time": "2023-07-06T00:12:01.274573Z",
     "end_time": "2023-07-06T00:12:01.287881Z"
    }
   }
  },
  {
   "cell_type": "code",
   "execution_count": 20,
   "outputs": [
    {
     "data": {
      "text/plain": "Yes.                                                 370\nNo we don't configure our CI workflows on GitHub.     43\nI don't know.                                         32\nWe don't have CI workflows.                           24\nName: CI_workflows, dtype: int64"
     },
     "execution_count": 20,
     "metadata": {},
     "output_type": "execute_result"
    }
   ],
   "source": [
    "df['CI_workflows'].value_counts()"
   ],
   "metadata": {
    "collapsed": false,
    "ExecuteTime": {
     "start_time": "2023-07-06T00:12:05.135464Z",
     "end_time": "2023-07-06T00:12:05.140216Z"
    }
   }
  },
  {
   "cell_type": "code",
   "execution_count": 21,
   "outputs": [
    {
     "name": "stdout",
     "output_type": "stream",
     "text": [
      "0\n",
      "187\n",
      "Yes.                                                 140\n",
      "I don't know.                                         21\n",
      "No we don't configure our CI workflows on GitHub.     19\n",
      "We don't have CI workflows.                            7\n",
      "Name: CI_workflows, dtype: int64\n",
      "-----\n",
      "2\n",
      "282\n",
      "Yes.                                                 230\n",
      "No we don't configure our CI workflows on GitHub.     24\n",
      "We don't have CI workflows.                           17\n",
      "I don't know.                                         11\n",
      "Name: CI_workflows, dtype: int64\n"
     ]
    }
   ],
   "source": [
    "print(df[contributors]['CI_workflows'].isna().sum())\n",
    "print(count_contributors - df[contributors]['CI_workflows'].isna().sum())\n",
    "print(df[contributors].CI_workflows.value_counts())\n",
    "print('-----')\n",
    "print(df[maintainers]['CI_workflows'].isna().sum())\n",
    "print(count_maintainers - df[maintainers]['CI_workflows'].isna().sum())\n",
    "print(df[maintainers].CI_workflows.value_counts())"
   ],
   "metadata": {
    "collapsed": false,
    "ExecuteTime": {
     "start_time": "2023-07-06T00:12:07.243519Z",
     "end_time": "2023-07-06T00:12:07.276626Z"
    }
   }
  },
  {
   "cell_type": "code",
   "execution_count": 22,
   "outputs": [
    {
     "data": {
      "text/plain": "<Figure size 432x288 with 1 Axes>",
      "image/png": "[encoded data removed]"
     },
     "metadata": {},
     "output_type": "display_data"
    },
    {
     "name": "stdout",
     "output_type": "stream",
     "text": [
      "Number of not-answered: 2\n",
      "Number of answered: 469\n"
     ]
    }
   ],
   "source": [
    "ci_workflows_count = ['Yes.', \"We don't have CI workflows.\", \"No we don't configure our CI workflows on GitHub.\", \"I don't know.\"]\n",
    "counts = [df.CI_workflows.value_counts()['Yes.'], df.CI_workflows.value_counts()[\"We don't have CI workflows.\"], df.CI_workflows.value_counts()[\"No we don't configure our CI workflows on GitHub.\"], df.CI_workflows.value_counts()[\"I don't know.\"]]\n",
    "fig, ax = plt.subplots()\n",
    "ax.bar(ci_workflows_count, counts)\n",
    "ax.set_ylabel('Count')\n",
    "ax.set_title('Does the project have CI workflows configured on GitHub?')\n",
    "plt.xticks(rotation=30, ha='right')\n",
    "plt.show()\n",
    "\n",
    "print(\"Number of not-answered:\", df.CI_workflows.isna().sum())\n",
    "print(\"Number of answered:\", df.shape[0] - df.CI_workflows.isna().sum())"
   ],
   "metadata": {
    "collapsed": false,
    "ExecuteTime": {
     "start_time": "2023-07-06T00:12:08.440764Z",
     "end_time": "2023-07-06T00:12:08.521550Z"
    }
   }
  },
  {
   "cell_type": "code",
   "execution_count": 23,
   "outputs": [
    {
     "name": "stdout",
     "output_type": "stream",
     "text": [
      "78.89125799573561\n",
      "5.11727078891258\n",
      "9.168443496801705\n",
      "6.823027718550106\n"
     ]
    }
   ],
   "source": [
    "print(df.CI_workflows.value_counts()['Yes.'] * 100 / 469)\n",
    "print(df.CI_workflows.value_counts()[\"We don't have CI workflows.\"] * 100 / 469)\n",
    "print(df.CI_workflows.value_counts()[\"No we don't configure our CI workflows on GitHub.\"] * 100 / 469)\n",
    "print(df.CI_workflows.value_counts()[\"I don't know.\"] * 100 / 469)"
   ],
   "metadata": {
    "collapsed": false,
    "ExecuteTime": {
     "start_time": "2023-07-06T00:12:09.151259Z",
     "end_time": "2023-07-06T00:12:09.157886Z"
    }
   }
  },
  {
   "cell_type": "code",
   "execution_count": 24,
   "outputs": [
    {
     "name": "stdout",
     "output_type": "stream",
     "text": [
      "Yes.\n",
      "74.8663101604278\n",
      "80.98591549295774\n",
      "We don't have CI workflows.\n",
      "3.7433155080213902\n",
      "5.985915492957746\n",
      "No we don't configure our CI workflows on GitHub.\n",
      "10.16042780748663\n",
      "8.450704225352112\n",
      "I don't know.\n",
      "11.229946524064172\n",
      "3.8732394366197185\n"
     ]
    }
   ],
   "source": [
    "print('Yes.')\n",
    "print(df[contributors].CI_workflows.value_counts()['Yes.'] * 100 / count_contributors)\n",
    "print(df[maintainers].CI_workflows.value_counts()['Yes.'] * 100 / count_maintainers)\n",
    "\n",
    "print(\"We don't have CI workflows.\")\n",
    "print(df[contributors].CI_workflows.value_counts()[\"We don't have CI workflows.\"] * 100 / count_contributors)\n",
    "print(df[maintainers].CI_workflows.value_counts()[\"We don't have CI workflows.\"] * 100 / count_maintainers)\n",
    "\n",
    "print(\"No we don't configure our CI workflows on GitHub.\")\n",
    "print(df[contributors].CI_workflows.value_counts()[\"No we don't configure our CI workflows on GitHub.\"] * 100 / count_contributors)\n",
    "print(df[maintainers].CI_workflows.value_counts()[\"No we don't configure our CI workflows on GitHub.\"] * 100 / count_maintainers)\n",
    "\n",
    "print(\"I don't know.\")\n",
    "print(df[contributors].CI_workflows.value_counts()[\"I don't know.\"] * 100 / count_contributors)\n",
    "print(df[maintainers].CI_workflows.value_counts()[\"I don't know.\"] * 100 / count_maintainers)"
   ],
   "metadata": {
    "collapsed": false,
    "ExecuteTime": {
     "start_time": "2023-07-06T00:12:09.681777Z",
     "end_time": "2023-07-06T00:12:09.700234Z"
    }
   }
  },
  {
   "cell_type": "code",
   "execution_count": 25,
   "outputs": [],
   "source": [
    "df[~df['CI_configuration'].isna()][['CI_configuration']].to_csv(\"manual_data_inspection/CI_configuration.csv\")"
   ],
   "metadata": {
    "collapsed": false,
    "ExecuteTime": {
     "start_time": "2023-07-06T00:12:10.195759Z",
     "end_time": "2023-07-06T00:12:10.202853Z"
    }
   }
  },
  {
   "cell_type": "code",
   "execution_count": 26,
   "outputs": [
    {
     "name": "stdout",
     "output_type": "stream",
     "text": [
      "193\n",
      "278\n",
      "59.02335456475584\n"
     ]
    }
   ],
   "source": [
    "print(df['CI_configuration'].isna().sum())\n",
    "print(count_all - df['CI_configuration'].isna().sum())\n",
    "print((count_all - df['CI_configuration'].isna().sum()) * 100 / count_all)"
   ],
   "metadata": {
    "collapsed": false,
    "ExecuteTime": {
     "start_time": "2023-07-06T00:12:10.743531Z",
     "end_time": "2023-07-06T00:12:10.746555Z"
    }
   }
  },
  {
   "cell_type": "code",
   "execution_count": 27,
   "outputs": [
    {
     "name": "stdout",
     "output_type": "stream",
     "text": [
      "97\n",
      "90\n",
      "-----\n",
      "96\n",
      "188\n"
     ]
    }
   ],
   "source": [
    "print(df[contributors]['CI_configuration'].isna().sum())\n",
    "print(count_contributors - df[contributors]['CI_configuration'].isna().sum())\n",
    "print('-----')\n",
    "print(df[maintainers]['CI_configuration'].isna().sum())\n",
    "print(count_maintainers - df[maintainers]['CI_configuration'].isna().sum())"
   ],
   "metadata": {
    "collapsed": false,
    "ExecuteTime": {
     "start_time": "2023-07-06T00:12:11.022177Z",
     "end_time": "2023-07-06T00:12:11.028080Z"
    }
   }
  },
  {
   "cell_type": "code",
   "execution_count": 28,
   "outputs": [],
   "source": [
    "df[~df['CI_when_how_check'].isna()][['CI_when_how_check']].to_csv(\"manual_data_inspection/CI_when_how_check.csv\")"
   ],
   "metadata": {
    "collapsed": false,
    "ExecuteTime": {
     "start_time": "2023-07-06T00:12:11.453980Z",
     "end_time": "2023-07-06T00:12:11.459425Z"
    }
   }
  },
  {
   "cell_type": "code",
   "execution_count": 29,
   "outputs": [
    {
     "name": "stdout",
     "output_type": "stream",
     "text": [
      "89\n",
      "98\n",
      "-----\n",
      "87\n",
      "197\n"
     ]
    }
   ],
   "source": [
    "print(df[contributors]['CI_when_how_check'].isna().sum())\n",
    "print(count_contributors - df[contributors]['CI_when_how_check'].isna().sum())\n",
    "# print(df[contributors].CI_workflows.value_counts())\n",
    "print('-----')\n",
    "print(df[maintainers]['CI_when_how_check'].isna().sum())\n",
    "print(count_maintainers - df[maintainers]['CI_when_how_check'].isna().sum())\n",
    "# print(df[maintainers].CI_workflows.value_counts())"
   ],
   "metadata": {
    "collapsed": false,
    "ExecuteTime": {
     "start_time": "2023-07-06T00:12:12.261157Z",
     "end_time": "2023-07-06T00:12:12.272128Z"
    }
   }
  },
  {
   "cell_type": "code",
   "execution_count": 30,
   "outputs": [
    {
     "name": "stdout",
     "output_type": "stream",
     "text": [
      "6\n",
      "36\n",
      "---\n",
      "---\n",
      "11\n",
      "6\n"
     ]
    }
   ],
   "source": [
    "data = pd.read_excel('manual_data_inspection/CI_configuration_coding.xlsx')\n",
    "invalid_indexes = data[(data['invalid'] == 1) | (data['vague'] == 1)]['Column1'].astype(int).tolist()\n",
    "# zero_indexes = data[data['zero'] == 1]['Column1'].astype(int).tolist()\n",
    "donno_indexes = data[data[\"don't know\"] == 1]['Column1'].astype(int).tolist()\n",
    "print(df[df.index.isin(invalid_indexes) & (contributors)].shape[0])\n",
    "print(df[df.index.isin(invalid_indexes) & (maintainers)].shape[0])\n",
    "print('---')\n",
    "# print(df[df.index.isin(zero_indexes) & (contributors)].shape[0])\n",
    "# print(df[df.index.isin(zero_indexes) & (maintainers)].shape[0])\n",
    "print('---')\n",
    "print(df[df.index.isin(donno_indexes) & (contributors)].shape[0])\n",
    "print(df[df.index.isin(donno_indexes) & (maintainers)].shape[0])"
   ],
   "metadata": {
    "collapsed": false,
    "ExecuteTime": {
     "start_time": "2023-07-06T00:12:12.675886Z",
     "end_time": "2023-07-06T00:12:12.699546Z"
    }
   }
  },
  {
   "cell_type": "code",
   "execution_count": 31,
   "outputs": [
    {
     "name": "stdout",
     "output_type": "stream",
     "text": [
      "295\n",
      "62.632696390658175\n"
     ]
    }
   ],
   "source": [
    "print(count_all - df['CI_when_how_check'].isna().sum())\n",
    "print((count_all - df['CI_when_how_check'].isna().sum()) * 100 / count_all)"
   ],
   "metadata": {
    "collapsed": false,
    "ExecuteTime": {
     "start_time": "2023-07-06T00:12:13.181306Z",
     "end_time": "2023-07-06T00:12:13.192385Z"
    }
   }
  },
  {
   "cell_type": "code",
   "execution_count": 32,
   "outputs": [
    {
     "name": "stdout",
     "output_type": "stream",
     "text": [
      "11\n",
      "12\n",
      "---\n",
      "---\n",
      "1\n",
      "1\n"
     ]
    }
   ],
   "source": [
    "data = pd.read_excel('manual_data_inspection/CI_when_how_check.xlsx')\n",
    "invalid_indexes = data[(data['invalid'] == 1) | (data['vague'] == 1)]['Column1'].astype(int).tolist()\n",
    "# zero_indexes = data[data['zero'] == 1]['Column1'].astype(int).tolist()\n",
    "donno_indexes = data[data[\"don't know\"] == 1]['Column1'].astype(int).tolist()\n",
    "print(df[df.index.isin(invalid_indexes) & (contributors)].shape[0])\n",
    "print(df[df.index.isin(invalid_indexes) & (maintainers)].shape[0])\n",
    "print('---')\n",
    "# print(df[df.index.isin(zero_indexes) & (contributors)].shape[0])\n",
    "# print(df[df.index.isin(zero_indexes) & (maintainers)].shape[0])\n",
    "print('---')\n",
    "print(df[df.index.isin(donno_indexes) & (contributors)].shape[0])\n",
    "print(df[df.index.isin(donno_indexes) & (maintainers)].shape[0])"
   ],
   "metadata": {
    "collapsed": false,
    "ExecuteTime": {
     "start_time": "2023-07-06T00:12:13.616581Z",
     "end_time": "2023-07-06T00:12:13.644895Z"
    }
   }
  },
  {
   "cell_type": "code",
   "execution_count": 33,
   "outputs": [
    {
     "name": "stdout",
     "output_type": "stream",
     "text": [
      "89\n",
      "98\n",
      "-----\n",
      "87\n",
      "197\n"
     ]
    }
   ],
   "source": [
    "print(df[contributors]['CI_when_how_check'].isna().sum())\n",
    "print(count_contributors - df[contributors]['CI_when_how_check'].isna().sum())\n",
    "# print(df[contributors].CI_workflows.value_counts())\n",
    "print('-----')\n",
    "print(df[maintainers]['CI_when_how_check'].isna().sum())\n",
    "print(count_maintainers - df[maintainers]['CI_when_how_check'].isna().sum())\n",
    "# print(df[maintainers].CI_workflows.value_counts())"
   ],
   "metadata": {
    "collapsed": false,
    "ExecuteTime": {
     "start_time": "2023-07-06T00:12:14.097943Z",
     "end_time": "2023-07-06T00:12:14.104247Z"
    }
   }
  },
  {
   "cell_type": "code",
   "execution_count": 36,
   "outputs": [],
   "source": [
    "df[~df['CI_situation'].isna()][['CI_situation']].to_csv(\"manual_data_inspection/CI_situation.csv\")"
   ],
   "metadata": {
    "collapsed": false,
    "ExecuteTime": {
     "start_time": "2023-07-06T00:12:35.546866Z",
     "end_time": "2023-07-06T00:12:35.556278Z"
    }
   }
  },
  {
   "cell_type": "code",
   "execution_count": 37,
   "outputs": [
    {
     "name": "stdout",
     "output_type": "stream",
     "text": [
      "299\n",
      "63.481953290870486\n"
     ]
    }
   ],
   "source": [
    "print(count_all - df['CI_situation'].isna().sum())\n",
    "print((count_all - df['CI_situation'].isna().sum()) * 100 / count_all)"
   ],
   "metadata": {
    "collapsed": false,
    "ExecuteTime": {
     "start_time": "2023-07-06T00:12:36.644460Z",
     "end_time": "2023-07-06T00:12:36.658146Z"
    }
   }
  },
  {
   "cell_type": "code",
   "execution_count": 38,
   "outputs": [
    {
     "name": "stdout",
     "output_type": "stream",
     "text": [
      "85\n",
      "102\n",
      "-----\n",
      "87\n",
      "197\n"
     ]
    }
   ],
   "source": [
    "print(df[contributors]['CI_situation'].isna().sum())\n",
    "print(count_contributors - df[contributors]['CI_situation'].isna().sum())\n",
    "# print(df[contributors].CI_workflows.value_counts())\n",
    "print('-----')\n",
    "print(df[maintainers]['CI_situation'].isna().sum())\n",
    "print(count_maintainers - df[maintainers]['CI_situation'].isna().sum())\n",
    "# print(df[maintainers].CI_workflows.value_counts())"
   ],
   "metadata": {
    "collapsed": false,
    "ExecuteTime": {
     "start_time": "2023-07-06T00:12:37.710906Z",
     "end_time": "2023-07-06T00:12:37.723943Z"
    }
   }
  },
  {
   "cell_type": "code",
   "execution_count": 42,
   "outputs": [
    {
     "name": "stdout",
     "output_type": "stream",
     "text": [
      "8\n",
      "22\n"
     ]
    }
   ],
   "source": [
    "data = pd.read_excel('manual_data_inspection/CI_situation_coding.xlsx')\n",
    "invalid_indexes = data[data['invalid'] == 1]['Column1'].astype(int).tolist()\n",
    "print(df[df.index.isin(invalid_indexes) & (contributors)].shape[0])\n",
    "print(df[df.index.isin(invalid_indexes) & (maintainers)].shape[0])\n"
   ],
   "metadata": {
    "collapsed": false,
    "ExecuteTime": {
     "start_time": "2023-07-06T00:12:53.195403Z",
     "end_time": "2023-07-06T00:12:53.210029Z"
    }
   }
  }
 ],
 "metadata": {
  "kernelspec": {
   "display_name": "Python 3",
   "language": "python",
   "name": "python3"
  },
  "language_info": {
   "codemirror_mode": {
    "name": "ipython",
    "version": 2
   },
   "file_extension": ".py",
   "mimetype": "text/x-python",
   "name": "python",
   "nbconvert_exporter": "python",
   "pygments_lexer": "ipython2",
   "version": "2.7.6"
  }
 },
 "nbformat": 4,
 "nbformat_minor": 0
}
