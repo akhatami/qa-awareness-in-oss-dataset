{
 "cells": [
  {
   "cell_type": "code",
   "execution_count": 1,
   "metadata": {
    "collapsed": true,
    "ExecuteTime": {
     "start_time": "2023-07-06T00:14:15.520140Z",
     "end_time": "2023-07-06T00:14:15.523081Z"
    }
   },
   "outputs": [],
   "source": [
    "import pandas as pd\n",
    "import matplotlib.pyplot as plt"
   ]
  },
  {
   "cell_type": "code",
   "execution_count": 2,
   "outputs": [],
   "source": [
    "df_all = pd.read_csv(\"data/answers_clean_complete.csv\")\n",
    "df_all = df_all.drop('Unnamed: 0', axis=1)\n",
    "df_all = df_all.iloc[2:].reset_index(drop=True)"
   ],
   "metadata": {
    "collapsed": false,
    "ExecuteTime": {
     "start_time": "2023-07-06T00:14:18.427698Z",
     "end_time": "2023-07-06T00:14:18.436624Z"
    }
   }
  },
  {
   "cell_type": "code",
   "execution_count": 3,
   "outputs": [],
   "source": [
    "df = df_all[['role', 'any_bots', 'use_asats',\n",
    "             'which_bots', 'newcomer_guidelines', 'building_guidelines']]"
   ],
   "metadata": {
    "collapsed": false,
    "ExecuteTime": {
     "start_time": "2023-07-06T00:14:19.588435Z",
     "end_time": "2023-07-06T00:14:19.601012Z"
    }
   }
  },
  {
   "cell_type": "code",
   "execution_count": 4,
   "outputs": [],
   "source": [
    "count_all = df.shape[0]\n",
    "contributors = df['role'] == 'Source code contributor'\n",
    "maintainers = df['role'] != 'Source code contributor'\n",
    "count_contributors = df[contributors].shape[0]\n",
    "count_maintainers = df[maintainers].shape[0]"
   ],
   "metadata": {
    "collapsed": false,
    "ExecuteTime": {
     "start_time": "2023-07-06T00:14:20.769558Z",
     "end_time": "2023-07-06T00:14:20.780296Z"
    }
   }
  },
  {
   "cell_type": "code",
   "execution_count": 5,
   "outputs": [
    {
     "data": {
      "text/plain": "Yes              248\nNo.              164\nI don't know.     58\nName: use_asats, dtype: int64"
     },
     "execution_count": 5,
     "metadata": {},
     "output_type": "execute_result"
    }
   ],
   "source": [
    "df['use_asats'].value_counts()"
   ],
   "metadata": {
    "collapsed": false,
    "ExecuteTime": {
     "start_time": "2023-07-06T00:14:20.978047Z",
     "end_time": "2023-07-06T00:14:21.018401Z"
    }
   }
  },
  {
   "cell_type": "code",
   "execution_count": 6,
   "outputs": [
    {
     "name": "stdout",
     "output_type": "stream",
     "text": [
      "0\n",
      "187\n",
      "Yes              87\n",
      "No.              59\n",
      "I don't know.    41\n",
      "Name: use_asats, dtype: int64\n",
      "-----\n",
      "1\n",
      "283\n",
      "Yes              161\n",
      "No.              105\n",
      "I don't know.     17\n",
      "Name: use_asats, dtype: int64\n"
     ]
    }
   ],
   "source": [
    "print(df[contributors]['use_asats'].isna().sum())\n",
    "print(count_contributors - df[contributors]['use_asats'].isna().sum())\n",
    "print(df[contributors].use_asats.value_counts())\n",
    "print('-----')\n",
    "print(df[maintainers]['use_asats'].isna().sum())\n",
    "print(count_maintainers - df[maintainers]['use_asats'].isna().sum())\n",
    "print(df[maintainers].use_asats.value_counts())"
   ],
   "metadata": {
    "collapsed": false,
    "ExecuteTime": {
     "start_time": "2023-07-06T00:14:21.719024Z",
     "end_time": "2023-07-06T00:14:21.727704Z"
    }
   }
  },
  {
   "cell_type": "code",
   "execution_count": 7,
   "outputs": [
    {
     "data": {
      "text/plain": "<Figure size 432x288 with 1 Axes>",
      "image/png": "[encoded data removed]"
     },
     "metadata": {},
     "output_type": "display_data"
    },
    {
     "name": "stdout",
     "output_type": "stream",
     "text": [
      "Number of not-answered: 1\n",
      "Number of answered: 470\n"
     ]
    }
   ],
   "source": [
    "use_asats_count = ['Yes', 'No', \"I don't know\"]\n",
    "counts = [df.use_asats.value_counts()['Yes'], df.use_asats.value_counts()['No.'], df.use_asats.value_counts()[\"I don't know.\"]]\n",
    "fig, ax = plt.subplots()\n",
    "ax.bar(use_asats_count, counts)\n",
    "ax.set_ylabel('Count')\n",
    "ax.set_title('Do you use ASATs in the project?')\n",
    "plt.xticks(rotation=30, ha='right')\n",
    "plt.show()\n",
    "\n",
    "print(\"Number of not-answered:\", df.use_asats.isna().sum())\n",
    "print(\"Number of answered:\", df.shape[0] - df.use_asats.isna().sum())"
   ],
   "metadata": {
    "collapsed": false,
    "ExecuteTime": {
     "start_time": "2023-07-06T00:14:22.296281Z",
     "end_time": "2023-07-06T00:14:22.383473Z"
    }
   }
  },
  {
   "cell_type": "code",
   "execution_count": 8,
   "outputs": [
    {
     "name": "stdout",
     "output_type": "stream",
     "text": [
      "52.765957446808514\n",
      "34.8936170212766\n",
      "12.340425531914894\n"
     ]
    }
   ],
   "source": [
    "print(df.use_asats.value_counts()['Yes'] * 100 / 470)\n",
    "print(df.use_asats.value_counts()['No.'] * 100 / 470)\n",
    "print(df.use_asats.value_counts()[\"I don't know.\"] * 100 / 470)"
   ],
   "metadata": {
    "collapsed": false,
    "ExecuteTime": {
     "start_time": "2023-07-06T00:14:22.714631Z",
     "end_time": "2023-07-06T00:14:22.721984Z"
    }
   }
  },
  {
   "cell_type": "code",
   "execution_count": 9,
   "outputs": [
    {
     "name": "stdout",
     "output_type": "stream",
     "text": [
      "Yes\n",
      "46.524064171122994\n",
      "56.690140845070424\n",
      "No.\n",
      "31.550802139037433\n",
      "36.971830985915496\n",
      "I don't know.\n",
      "21.925133689839573\n",
      "5.985915492957746\n"
     ]
    }
   ],
   "source": [
    "print('Yes')\n",
    "print(df[contributors].use_asats.value_counts()['Yes'] * 100 / count_contributors)\n",
    "print(df[maintainers].use_asats.value_counts()['Yes'] * 100 / count_maintainers)\n",
    "\n",
    "print('No.')\n",
    "print(df[contributors].use_asats.value_counts()[\"No.\"] * 100 / count_contributors)\n",
    "print(df[maintainers].use_asats.value_counts()[\"No.\"] * 100 / count_maintainers)\n",
    "\n",
    "print(\"I don't know.\")\n",
    "print(df[contributors].use_asats.value_counts()[\"I don't know.\"] * 100 / count_contributors)\n",
    "print(df[maintainers].use_asats.value_counts()[\"I don't know.\"] * 100 / count_maintainers)"
   ],
   "metadata": {
    "collapsed": false,
    "ExecuteTime": {
     "start_time": "2023-07-06T00:14:23.049285Z",
     "end_time": "2023-07-06T00:14:23.112916Z"
    }
   }
  },
  {
   "cell_type": "code",
   "execution_count": 10,
   "outputs": [
    {
     "data": {
      "text/plain": "Yes.             219\nNo.              190\nI don't know.     59\nName: any_bots, dtype: int64"
     },
     "execution_count": 10,
     "metadata": {},
     "output_type": "execute_result"
    }
   ],
   "source": [
    "df['any_bots'].value_counts()"
   ],
   "metadata": {
    "collapsed": false,
    "ExecuteTime": {
     "start_time": "2023-07-06T00:14:23.525170Z",
     "end_time": "2023-07-06T00:14:23.546231Z"
    }
   }
  },
  {
   "cell_type": "code",
   "execution_count": 11,
   "outputs": [
    {
     "data": {
      "text/plain": "<Figure size 432x288 with 1 Axes>",
      "image/png": "[encoded data removed]"
     },
     "metadata": {},
     "output_type": "display_data"
    },
    {
     "name": "stdout",
     "output_type": "stream",
     "text": [
      "Number of not-answered: 3\n",
      "Number of answered: 468\n"
     ]
    }
   ],
   "source": [
    "use_bots_count = ['Yes', 'No', \"I don't know\"]\n",
    "counts = [df.any_bots.value_counts()['Yes.'], df.any_bots.value_counts()['No.'], df.any_bots.value_counts()[\"I don't know.\"]]\n",
    "fig, ax = plt.subplots()\n",
    "ax.bar(use_bots_count, counts)\n",
    "ax.set_ylabel('Count')\n",
    "ax.set_title('Do you use ASATs in the project?')\n",
    "plt.xticks(rotation=30, ha='right')\n",
    "plt.show()\n",
    "\n",
    "print(\"Number of not-answered:\", df.any_bots.isna().sum())\n",
    "print(\"Number of answered:\", df.shape[0] - df.any_bots.isna().sum())"
   ],
   "metadata": {
    "collapsed": false,
    "ExecuteTime": {
     "start_time": "2023-07-06T00:14:23.957125Z",
     "end_time": "2023-07-06T00:14:24.008644Z"
    }
   }
  },
  {
   "cell_type": "code",
   "execution_count": 12,
   "outputs": [
    {
     "name": "stdout",
     "output_type": "stream",
     "text": [
      "46.794871794871796\n",
      "40.598290598290596\n",
      "12.606837606837606\n"
     ]
    }
   ],
   "source": [
    "print(df.any_bots.value_counts()['Yes.'] * 100 / 468)\n",
    "print(df.any_bots.value_counts()['No.'] * 100 / 468)\n",
    "print(df.any_bots.value_counts()[\"I don't know.\"] * 100 / 468)"
   ],
   "metadata": {
    "collapsed": false,
    "ExecuteTime": {
     "start_time": "2023-07-06T00:14:24.517106Z",
     "end_time": "2023-07-06T00:14:24.548596Z"
    }
   }
  },
  {
   "cell_type": "code",
   "execution_count": 13,
   "outputs": [
    {
     "name": "stdout",
     "output_type": "stream",
     "text": [
      "1\n",
      "186\n",
      "Yes.             84\n",
      "No.              62\n",
      "I don't know.    40\n",
      "Name: any_bots, dtype: int64\n",
      "-----\n",
      "2\n",
      "282\n",
      "Yes.             135\n",
      "No.              128\n",
      "I don't know.     19\n",
      "Name: any_bots, dtype: int64\n"
     ]
    }
   ],
   "source": [
    "print(df[contributors]['any_bots'].isna().sum())\n",
    "print(count_contributors - df[contributors]['any_bots'].isna().sum())\n",
    "print(df[contributors].any_bots.value_counts())\n",
    "print('-----')\n",
    "print(df[maintainers]['any_bots'].isna().sum())\n",
    "print(count_maintainers - df[maintainers]['any_bots'].isna().sum())\n",
    "print(df[maintainers].any_bots.value_counts())"
   ],
   "metadata": {
    "collapsed": false,
    "ExecuteTime": {
     "start_time": "2023-07-06T00:14:24.886354Z",
     "end_time": "2023-07-06T00:14:24.890843Z"
    }
   }
  },
  {
   "cell_type": "code",
   "execution_count": 14,
   "outputs": [
    {
     "name": "stdout",
     "output_type": "stream",
     "text": [
      "Yes\n",
      "44.919786096256686\n",
      "47.53521126760563\n",
      "No.\n",
      "33.155080213903744\n",
      "45.070422535211264\n",
      "I don't know.\n",
      "21.390374331550802\n",
      "6.690140845070423\n"
     ]
    }
   ],
   "source": [
    "print('Yes')\n",
    "print(df[contributors].any_bots.value_counts()['Yes.'] * 100 / count_contributors)\n",
    "print(df[maintainers].any_bots.value_counts()['Yes.'] * 100 / count_maintainers)\n",
    "\n",
    "print('No.')\n",
    "print(df[contributors].any_bots.value_counts()[\"No.\"] * 100 / count_contributors)\n",
    "print(df[maintainers].any_bots.value_counts()[\"No.\"] * 100 / count_maintainers)\n",
    "\n",
    "print(\"I don't know.\")\n",
    "print(df[contributors].any_bots.value_counts()[\"I don't know.\"] * 100 / count_contributors)\n",
    "print(df[maintainers].any_bots.value_counts()[\"I don't know.\"] * 100 / count_maintainers)"
   ],
   "metadata": {
    "collapsed": false,
    "ExecuteTime": {
     "start_time": "2023-07-06T00:14:25.176342Z",
     "end_time": "2023-07-06T00:14:25.182934Z"
    }
   }
  },
  {
   "cell_type": "code",
   "execution_count": 15,
   "outputs": [],
   "source": [
    "df[~df['which_bots'].isna()][['which_bots']].to_csv(\"manual_data_inspection/which_bots.csv\")"
   ],
   "metadata": {
    "collapsed": false,
    "ExecuteTime": {
     "start_time": "2023-07-06T00:14:25.486209Z",
     "end_time": "2023-07-06T00:14:25.500441Z"
    }
   }
  },
  {
   "cell_type": "code",
   "execution_count": 16,
   "outputs": [
    {
     "name": "stdout",
     "output_type": "stream",
     "text": [
      "188\n",
      "39.91507430997877\n"
     ]
    }
   ],
   "source": [
    "print(count_all - df['which_bots'].isna().sum())\n",
    "print((count_all - df['which_bots'].isna().sum()) * 100 / 471)"
   ],
   "metadata": {
    "collapsed": false,
    "ExecuteTime": {
     "start_time": "2023-07-06T00:14:25.976399Z",
     "end_time": "2023-07-06T00:14:25.982411Z"
    }
   }
  },
  {
   "cell_type": "code",
   "execution_count": 17,
   "outputs": [
    {
     "name": "stdout",
     "output_type": "stream",
     "text": [
      "122\n",
      "65\n",
      "-----\n",
      "161\n",
      "123\n"
     ]
    }
   ],
   "source": [
    "print(df[contributors]['which_bots'].isna().sum())\n",
    "print(count_contributors - df[contributors]['which_bots'].isna().sum())\n",
    "# print(df[contributors].any_bots.value_counts())\n",
    "print('-----')\n",
    "print(df[maintainers]['which_bots'].isna().sum())\n",
    "print(count_maintainers - df[maintainers]['which_bots'].isna().sum())\n",
    "# print(df[maintainers].any_bots.value_counts())"
   ],
   "metadata": {
    "collapsed": false,
    "ExecuteTime": {
     "start_time": "2023-07-06T00:14:26.354613Z",
     "end_time": "2023-07-06T00:14:26.360249Z"
    }
   }
  },
  {
   "cell_type": "code",
   "execution_count": 18,
   "outputs": [],
   "source": [
    "donno_indexes = [9, 16, 350]\n",
    "invalid_indexes = [157]"
   ],
   "metadata": {
    "collapsed": false,
    "ExecuteTime": {
     "start_time": "2023-07-06T00:14:26.680339Z",
     "end_time": "2023-07-06T00:14:26.694784Z"
    }
   }
  },
  {
   "cell_type": "code",
   "execution_count": 19,
   "outputs": [
    {
     "name": "stdout",
     "output_type": "stream",
     "text": [
      "0\n",
      "1\n",
      "---\n",
      "---\n",
      "0\n",
      "3\n"
     ]
    }
   ],
   "source": [
    "data = pd.read_excel('manual_data_inspection/which_bots_inspected.xlsx')\n",
    "# invalid_indexes = data[data['invalid'] == 1]['Column1'].astype(int).tolist()\n",
    "# zero_indexes = data[data['zero'] == 1]['Column1'].astype(int).tolist()\n",
    "# donno_indexes = data[data[\"idk\"] == 1]['Column1'].astype(int).tolist()\n",
    "print(df[df.index.isin(invalid_indexes) & (contributors)].shape[0])\n",
    "print(df[df.index.isin(invalid_indexes) & (maintainers)].shape[0])\n",
    "print('---')\n",
    "# print(df[df.index.isin(zero_indexes) & (contributors)].shape[0])\n",
    "# print(df[df.index.isin(zero_indexes) & (maintainers)].shape[0])\n",
    "print('---')\n",
    "print(df[df.index.isin(donno_indexes) & (contributors)].shape[0])\n",
    "print(df[df.index.isin(donno_indexes) & (maintainers)].shape[0])"
   ],
   "metadata": {
    "collapsed": false,
    "ExecuteTime": {
     "start_time": "2023-07-06T00:14:27.414127Z",
     "end_time": "2023-07-06T00:14:27.439236Z"
    }
   }
  },
  {
   "cell_type": "code",
   "execution_count": 20,
   "outputs": [],
   "source": [
    "df[~df['newcomer_guidelines'].isna()][['newcomer_guidelines']].to_csv(\"manual_data_inspection/newcomer_guidelines.csv\")"
   ],
   "metadata": {
    "collapsed": false,
    "ExecuteTime": {
     "start_time": "2023-07-06T00:14:27.755465Z",
     "end_time": "2023-07-06T00:14:27.767907Z"
    }
   }
  },
  {
   "cell_type": "code",
   "execution_count": 21,
   "outputs": [
    {
     "name": "stdout",
     "output_type": "stream",
     "text": [
      "49\n",
      "138\n",
      "-----\n",
      "56\n",
      "228\n"
     ]
    }
   ],
   "source": [
    "print(df[contributors]['newcomer_guidelines'].isna().sum())\n",
    "print(count_contributors - df[contributors]['newcomer_guidelines'].isna().sum())\n",
    "# print(df[contributors].any_bots.value_counts())\n",
    "print('-----')\n",
    "print(df[maintainers]['newcomer_guidelines'].isna().sum())\n",
    "print(count_maintainers - df[maintainers]['newcomer_guidelines'].isna().sum())\n",
    "# print(df[maintainers].any_bots.value_counts())"
   ],
   "metadata": {
    "collapsed": false,
    "ExecuteTime": {
     "start_time": "2023-07-06T00:14:28.087466Z",
     "end_time": "2023-07-06T00:14:28.099649Z"
    }
   }
  },
  {
   "cell_type": "code",
   "execution_count": 22,
   "outputs": [
    {
     "name": "stdout",
     "output_type": "stream",
     "text": [
      "21\n",
      "67\n",
      "---\n",
      "---\n",
      "5\n",
      "2\n"
     ]
    }
   ],
   "source": [
    "data = pd.read_excel('manual_data_inspection/newcomer_guidelines_inspected.xlsx')\n",
    "invalid_indexes = data[data['no'] == 1]['Column1'].astype(int).tolist()\n",
    "# zero_indexes = data[data['zero'] == 1]['Column1'].astype(int).tolist()\n",
    "donno_indexes = data[data[\"idk \"] == 1]['Column1'].astype(int).tolist()\n",
    "print(df[df.index.isin(invalid_indexes) & (contributors)].shape[0])\n",
    "print(df[df.index.isin(invalid_indexes) & (maintainers)].shape[0])\n",
    "print('---')\n",
    "# print(df[df.index.isin(zero_indexes) & (contributors)].shape[0])\n",
    "# print(df[df.index.isin(zero_indexes) & (maintainers)].shape[0])\n",
    "print('---')\n",
    "print(df[df.index.isin(donno_indexes) & (contributors)].shape[0])\n",
    "print(df[df.index.isin(donno_indexes) & (maintainers)].shape[0])"
   ],
   "metadata": {
    "collapsed": false,
    "ExecuteTime": {
     "start_time": "2023-07-06T00:14:28.634567Z",
     "end_time": "2023-07-06T00:14:28.665378Z"
    }
   }
  },
  {
   "cell_type": "code",
   "execution_count": 23,
   "outputs": [],
   "source": [
    "df[~df['building_guidelines'].isna()][['building_guidelines']].to_csv(\"manual_data_inspection/building_guidelines.csv\")"
   ],
   "metadata": {
    "collapsed": false,
    "ExecuteTime": {
     "start_time": "2023-07-06T00:14:28.916410Z",
     "end_time": "2023-07-06T00:14:28.929945Z"
    }
   }
  },
  {
   "cell_type": "code",
   "execution_count": 24,
   "outputs": [
    {
     "name": "stdout",
     "output_type": "stream",
     "text": [
      "366\n",
      "77.70700636942675\n"
     ]
    }
   ],
   "source": [
    "print(count_all - df['building_guidelines'].isna().sum())\n",
    "print((count_all - df['building_guidelines'].isna().sum()) * 100 / 471)"
   ],
   "metadata": {
    "collapsed": false,
    "ExecuteTime": {
     "start_time": "2023-07-06T00:14:29.316512Z",
     "end_time": "2023-07-06T00:14:29.324324Z"
    }
   }
  },
  {
   "cell_type": "code",
   "execution_count": 25,
   "outputs": [
    {
     "name": "stdout",
     "output_type": "stream",
     "text": [
      "49\n",
      "138\n",
      "-----\n",
      "56\n",
      "228\n"
     ]
    }
   ],
   "source": [
    "print(df[contributors]['building_guidelines'].isna().sum())\n",
    "print(count_contributors - df[contributors]['building_guidelines'].isna().sum())\n",
    "# print(df[contributors].any_bots.value_counts())\n",
    "print('-----')\n",
    "print(df[maintainers]['newcomer_guidelines'].isna().sum())\n",
    "print(count_maintainers - df[maintainers]['building_guidelines'].isna().sum())\n",
    "# print(df[maintainers].any_bots.value_counts())"
   ],
   "metadata": {
    "collapsed": false,
    "ExecuteTime": {
     "start_time": "2023-07-06T00:14:29.691594Z",
     "end_time": "2023-07-06T00:14:29.695747Z"
    }
   }
  },
  {
   "cell_type": "code",
   "execution_count": 26,
   "outputs": [
    {
     "name": "stdout",
     "output_type": "stream",
     "text": [
      "5\n",
      "6\n",
      "---\n",
      "27\n",
      "63\n",
      "---\n",
      "5\n",
      "3\n"
     ]
    }
   ],
   "source": [
    "data = pd.read_excel('manual_data_inspection/building_guidelines_inspected.xlsx')\n",
    "invalid_indexes = data[(data['invalid'] == 1) | (data['not applicable'] == 1)]['Column1'].astype(int).tolist()\n",
    "zero_indexes = data[data['no'] == 1]['Column1'].astype(int).tolist()\n",
    "donno_indexes = data[data[\"idk - unsure\"] == 1]['Column1'].astype(int).tolist()\n",
    "print(df[df.index.isin(invalid_indexes) & (contributors)].shape[0])\n",
    "print(df[df.index.isin(invalid_indexes) & (maintainers)].shape[0])\n",
    "print('---')\n",
    "print(df[df.index.isin(zero_indexes) & (contributors)].shape[0])\n",
    "print(df[df.index.isin(zero_indexes) & (maintainers)].shape[0])\n",
    "print('---')\n",
    "print(df[df.index.isin(donno_indexes) & (contributors)].shape[0])\n",
    "print(df[df.index.isin(donno_indexes) & (maintainers)].shape[0])"
   ],
   "metadata": {
    "collapsed": false,
    "ExecuteTime": {
     "start_time": "2023-07-06T00:14:30.029024Z",
     "end_time": "2023-07-06T00:14:30.038751Z"
    }
   }
  }
 ],
 "metadata": {
  "kernelspec": {
   "display_name": "Python 3",
   "language": "python",
   "name": "python3"
  },
  "language_info": {
   "codemirror_mode": {
    "name": "ipython",
    "version": 2
   },
   "file_extension": ".py",
   "mimetype": "text/x-python",
   "name": "python",
   "nbconvert_exporter": "python",
   "pygments_lexer": "ipython2",
   "version": "2.7.6"
  }
 },
 "nbformat": 4,
 "nbformat_minor": 0
}
